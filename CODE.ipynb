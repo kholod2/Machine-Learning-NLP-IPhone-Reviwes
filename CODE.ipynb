{
 "cells": [
  {
   "cell_type": "markdown",
   "id": "154e75ed",
   "metadata": {},
   "source": [
    " ## Nlp iPhoneSE Reviwes: \n",
    "    \n",
    "    - look at the data\n",
    "    - cleaning \n",
    "    - visualize \n",
    "    - nlp cleaning \n",
    "    \n",
    "    - sentment analysis\n",
    "    - topic modeling\n",
    "    - recommendation engine\n",
    "    - clustering "
   ]
  },
  {
   "cell_type": "code",
   "execution_count": 16,
   "id": "c43b3364",
   "metadata": {},
   "outputs": [
    {
     "name": "stdout",
     "output_type": "stream",
     "text": [
      "Requirement already satisfied: neattext in c:\\users\\hp\\anaconda3\\lib\\site-packages (0.1.2)\n",
      "Note: you may need to restart the kernel to use updated packages.\n"
     ]
    }
   ],
   "source": [
    "pip install neattext"
   ]
  },
  {
   "cell_type": "code",
   "execution_count": 115,
   "id": "2135d8c6",
   "metadata": {},
   "outputs": [],
   "source": [
    "pd.set_option('display.max_colwidth', 10000)\n",
    "import pandas as pd\n",
    "import matplotlib.pyplot as plt\n",
    "import seaborn as sns\n",
    "plt.style.use('ggplot')\n",
    "import statistics\n",
    "from sklearn.model_selection import train_test_split\n",
    "from sklearn.linear_model import LinearRegression\n",
    "import warnings\n",
    "import re # this is the regular expression library which helps us manipulate text (strings) fairly easily and intuitively\n",
    "import nltk # this is the Natural Language Tool Kit which contains a lot of functionalities for text analytics"
   ]
  },
  {
   "cell_type": "markdown",
   "id": "e142d7bd",
   "metadata": {},
   "source": [
    "________"
   ]
  },
  {
   "cell_type": "code",
   "execution_count": 116,
   "id": "40bc99b6",
   "metadata": {},
   "outputs": [
    {
     "data": {
      "text/html": [
       "<div>\n",
       "<style scoped>\n",
       "    .dataframe tbody tr th:only-of-type {\n",
       "        vertical-align: middle;\n",
       "    }\n",
       "\n",
       "    .dataframe tbody tr th {\n",
       "        vertical-align: top;\n",
       "    }\n",
       "\n",
       "    .dataframe thead th {\n",
       "        text-align: right;\n",
       "    }\n",
       "</style>\n",
       "<table border=\"1\" class=\"dataframe\">\n",
       "  <thead>\n",
       "    <tr style=\"text-align: right;\">\n",
       "      <th></th>\n",
       "      <th>Ratings</th>\n",
       "      <th>Comment</th>\n",
       "      <th>Reviews</th>\n",
       "    </tr>\n",
       "  </thead>\n",
       "  <tbody>\n",
       "    <tr>\n",
       "      <th>0</th>\n",
       "      <td>5</td>\n",
       "      <td>Super!</td>\n",
       "      <td>Great camera for pics and videos Battery life is good so far with some setting turn of which i never use and when i use i turn those on and i use it in power saving mode all the time so a full day with light gaming of 1hr or more using camera for 1hr or more listening music in my car on youtube and Bluetooth on for couple of hours it gives me full day of battery varing from 4/5 to 6/7 hours sot per dayPerformance is top notch plays every game and every task with easeVery premium phone look...READ MORE</td>\n",
       "    </tr>\n",
       "    <tr>\n",
       "      <th>1</th>\n",
       "      <td>5</td>\n",
       "      <td>Must buy!</td>\n",
       "      <td>Great device. Let me tell the Pros..1. Superb build quality 2. Great display. 3. Camera is great in good lighting conditions 4. Processing is great. 5. Sound is superb. 6. Call quality is great. 7. Red colour looks superb.8. Portrait mode photography is Superb.READ MORE</td>\n",
       "    </tr>\n",
       "    <tr>\n",
       "      <th>2</th>\n",
       "      <td>5</td>\n",
       "      <td>Great product</td>\n",
       "      <td>Who all loves older size i.e., 4.7 inch type should definitely go for this.  Nothing is better than XR, XS or 11. Best for price and usage.READ MORE</td>\n",
       "    </tr>\n",
       "    <tr>\n",
       "      <th>3</th>\n",
       "      <td>5</td>\n",
       "      <td>Simply awesome</td>\n",
       "      <td>This iPhone SE is the best phone ever you get. Beautifully designed gives a classy look in your palms. Moreover, performance wise it is a benchmark. You will not be disappointed in this budget. My purchase point was its size. If you are looking for the same you won’t be disappointed. I strongly recommend this phone to people who is more work oriented. Game loves should skip this phone as this is not a game phone. Best features with stunning looks &amp; performance. Battery life is very good...READ MORE</td>\n",
       "    </tr>\n",
       "    <tr>\n",
       "      <th>4</th>\n",
       "      <td>5</td>\n",
       "      <td>Classy product</td>\n",
       "      <td>This is my second iphone after iphone 4s. I’ve been a long time android user in between. I’ll tell you who this phone is for. Prospective buyers can then decide1. For photo and video enthusiasts. Very reliable camera. Fast and excellent picture quality. Videos are absolutely stable and professional quality. You would be amazed how many people shoot Youtube videos on an iPhone. The only downside is that the display doesn’t do justice to the photos and videos you have taken. Night photos are ...READ MORE</td>\n",
       "    </tr>\n",
       "  </tbody>\n",
       "</table>\n",
       "</div>"
      ],
      "text/plain": [
       "   Ratings         Comment  \\\n",
       "0        5          Super!   \n",
       "1        5       Must buy!   \n",
       "2        5   Great product   \n",
       "3        5  Simply awesome   \n",
       "4        5  Classy product   \n",
       "\n",
       "                                                                                                                                                                                                                                                                                                                                                                                                                                                                                                                       Reviews  \n",
       "0   Great camera for pics and videos Battery life is good so far with some setting turn of which i never use and when i use i turn those on and i use it in power saving mode all the time so a full day with light gaming of 1hr or more using camera for 1hr or more listening music in my car on youtube and Bluetooth on for couple of hours it gives me full day of battery varing from 4/5 to 6/7 hours sot per dayPerformance is top notch plays every game and every task with easeVery premium phone look...READ MORE  \n",
       "1                                                                                                                                                                                                                                               Great device. Let me tell the Pros..1. Superb build quality 2. Great display. 3. Camera is great in good lighting conditions 4. Processing is great. 5. Sound is superb. 6. Call quality is great. 7. Red colour looks superb.8. Portrait mode photography is Superb.READ MORE  \n",
       "2                                                                                                                                                                                                                                                                                                                                                                         Who all loves older size i.e., 4.7 inch type should definitely go for this.  Nothing is better than XR, XS or 11. Best for price and usage.READ MORE  \n",
       "3      This iPhone SE is the best phone ever you get. Beautifully designed gives a classy look in your palms. Moreover, performance wise it is a benchmark. You will not be disappointed in this budget. My purchase point was its size. If you are looking for the same you won’t be disappointed. I strongly recommend this phone to people who is more work oriented. Game loves should skip this phone as this is not a game phone. Best features with stunning looks & performance. Battery life is very good...READ MORE  \n",
       "4  This is my second iphone after iphone 4s. I’ve been a long time android user in between. I’ll tell you who this phone is for. Prospective buyers can then decide1. For photo and video enthusiasts. Very reliable camera. Fast and excellent picture quality. Videos are absolutely stable and professional quality. You would be amazed how many people shoot Youtube videos on an iPhone. The only downside is that the display doesn’t do justice to the photos and videos you have taken. Night photos are ...READ MORE  "
      ]
     },
     "execution_count": 116,
     "metadata": {},
     "output_type": "execute_result"
    }
   ],
   "source": [
    "df = pd.read_csv('APPLE_iPhone_SE.csv')\n",
    "df.head()"
   ]
  },
  {
   "cell_type": "code",
   "execution_count": 117,
   "id": "fa2c208e",
   "metadata": {},
   "outputs": [
    {
     "name": "stdout",
     "output_type": "stream",
     "text": [
      "<class 'pandas.core.frame.DataFrame'>\n",
      "RangeIndex: 9713 entries, 0 to 9712\n",
      "Data columns (total 3 columns):\n",
      " #   Column   Non-Null Count  Dtype \n",
      "---  ------   --------------  ----- \n",
      " 0   Ratings  9713 non-null   int64 \n",
      " 1   Comment  9713 non-null   object\n",
      " 2   Reviews  9713 non-null   object\n",
      "dtypes: int64(1), object(2)\n",
      "memory usage: 227.8+ KB\n"
     ]
    }
   ],
   "source": [
    "df.info()"
   ]
  },
  {
   "cell_type": "code",
   "execution_count": 118,
   "id": "876e7015",
   "metadata": {},
   "outputs": [
    {
     "data": {
      "text/plain": [
       "9713"
      ]
     },
     "execution_count": 118,
     "metadata": {},
     "output_type": "execute_result"
    }
   ],
   "source": [
    "len(df)"
   ]
  },
  {
   "cell_type": "code",
   "execution_count": 119,
   "id": "35ade2c7",
   "metadata": {},
   "outputs": [
    {
     "data": {
      "text/plain": [
       "(9713, 3)"
      ]
     },
     "execution_count": 119,
     "metadata": {},
     "output_type": "execute_result"
    }
   ],
   "source": [
    "df.shape"
   ]
  },
  {
   "cell_type": "code",
   "execution_count": 120,
   "id": "d74cd586",
   "metadata": {},
   "outputs": [
    {
     "data": {
      "text/plain": [
       "649"
      ]
     },
     "execution_count": 120,
     "metadata": {},
     "output_type": "execute_result"
    }
   ],
   "source": [
    "df.duplicated().sum()"
   ]
  },
  {
   "cell_type": "code",
   "execution_count": 121,
   "id": "0c0409ce",
   "metadata": {},
   "outputs": [
    {
     "data": {
      "text/html": [
       "<div>\n",
       "<style scoped>\n",
       "    .dataframe tbody tr th:only-of-type {\n",
       "        vertical-align: middle;\n",
       "    }\n",
       "\n",
       "    .dataframe tbody tr th {\n",
       "        vertical-align: top;\n",
       "    }\n",
       "\n",
       "    .dataframe thead th {\n",
       "        text-align: right;\n",
       "    }\n",
       "</style>\n",
       "<table border=\"1\" class=\"dataframe\">\n",
       "  <thead>\n",
       "    <tr style=\"text-align: right;\">\n",
       "      <th></th>\n",
       "      <th>Ratings</th>\n",
       "      <th>Comment</th>\n",
       "      <th>Reviews</th>\n",
       "    </tr>\n",
       "  </thead>\n",
       "  <tbody>\n",
       "    <tr>\n",
       "      <th>0</th>\n",
       "      <td>5</td>\n",
       "      <td>Super!</td>\n",
       "      <td>Great camera for pics and videos Battery life is good so far with some setting turn of which i never use and when i use i turn those on and i use it in power saving mode all the time so a full day with light gaming of 1hr or more using camera for 1hr or more listening music in my car on youtube and Bluetooth on for couple of hours it gives me full day of battery varing from 4/5 to 6/7 hours sot per dayPerformance is top notch plays every game and every task with easeVery premium phone look...READ MORE</td>\n",
       "    </tr>\n",
       "    <tr>\n",
       "      <th>1</th>\n",
       "      <td>5</td>\n",
       "      <td>Must buy!</td>\n",
       "      <td>Great device. Let me tell the Pros..1. Superb build quality 2. Great display. 3. Camera is great in good lighting conditions 4. Processing is great. 5. Sound is superb. 6. Call quality is great. 7. Red colour looks superb.8. Portrait mode photography is Superb.READ MORE</td>\n",
       "    </tr>\n",
       "    <tr>\n",
       "      <th>2</th>\n",
       "      <td>5</td>\n",
       "      <td>Great product</td>\n",
       "      <td>Who all loves older size i.e., 4.7 inch type should definitely go for this.  Nothing is better than XR, XS or 11. Best for price and usage.READ MORE</td>\n",
       "    </tr>\n",
       "    <tr>\n",
       "      <th>3</th>\n",
       "      <td>5</td>\n",
       "      <td>Simply awesome</td>\n",
       "      <td>This iPhone SE is the best phone ever you get. Beautifully designed gives a classy look in your palms. Moreover, performance wise it is a benchmark. You will not be disappointed in this budget. My purchase point was its size. If you are looking for the same you won’t be disappointed. I strongly recommend this phone to people who is more work oriented. Game loves should skip this phone as this is not a game phone. Best features with stunning looks &amp; performance. Battery life is very good...READ MORE</td>\n",
       "    </tr>\n",
       "    <tr>\n",
       "      <th>4</th>\n",
       "      <td>5</td>\n",
       "      <td>Classy product</td>\n",
       "      <td>This is my second iphone after iphone 4s. I’ve been a long time android user in between. I’ll tell you who this phone is for. Prospective buyers can then decide1. For photo and video enthusiasts. Very reliable camera. Fast and excellent picture quality. Videos are absolutely stable and professional quality. You would be amazed how many people shoot Youtube videos on an iPhone. The only downside is that the display doesn’t do justice to the photos and videos you have taken. Night photos are ...READ MORE</td>\n",
       "    </tr>\n",
       "    <tr>\n",
       "      <th>...</th>\n",
       "      <td>...</td>\n",
       "      <td>...</td>\n",
       "      <td>...</td>\n",
       "    </tr>\n",
       "    <tr>\n",
       "      <th>9708</th>\n",
       "      <td>5</td>\n",
       "      <td>Terrific purchase</td>\n",
       "      <td>Absolutely brilliantREAD MORE</td>\n",
       "    </tr>\n",
       "    <tr>\n",
       "      <th>9709</th>\n",
       "      <td>5</td>\n",
       "      <td>Classy product</td>\n",
       "      <td>Superb phone. This is my 4th iPhone, I feel SE 2020is the thinnest and pocket friendly product.READ MORE</td>\n",
       "    </tr>\n",
       "    <tr>\n",
       "      <th>9710</th>\n",
       "      <td>5</td>\n",
       "      <td>Awesome</td>\n",
       "      <td>very niceREAD MORE</td>\n",
       "    </tr>\n",
       "    <tr>\n",
       "      <th>9711</th>\n",
       "      <td>5</td>\n",
       "      <td>Super!</td>\n",
       "      <td>Loving it as of now. Good Product .READ MORE</td>\n",
       "    </tr>\n",
       "    <tr>\n",
       "      <th>9712</th>\n",
       "      <td>5</td>\n",
       "      <td>Terrific purchase</td>\n",
       "      <td>NiceElegant ElectricREAD MORE</td>\n",
       "    </tr>\n",
       "  </tbody>\n",
       "</table>\n",
       "<p>9064 rows × 3 columns</p>\n",
       "</div>"
      ],
      "text/plain": [
       "      Ratings            Comment  \\\n",
       "0           5             Super!   \n",
       "1           5          Must buy!   \n",
       "2           5      Great product   \n",
       "3           5     Simply awesome   \n",
       "4           5     Classy product   \n",
       "...       ...                ...   \n",
       "9708        5  Terrific purchase   \n",
       "9709        5     Classy product   \n",
       "9710        5            Awesome   \n",
       "9711        5             Super!   \n",
       "9712        5  Terrific purchase   \n",
       "\n",
       "                                                                                                                                                                                                                                                                                                                                                                                                                                                                                                                          Reviews  \n",
       "0      Great camera for pics and videos Battery life is good so far with some setting turn of which i never use and when i use i turn those on and i use it in power saving mode all the time so a full day with light gaming of 1hr or more using camera for 1hr or more listening music in my car on youtube and Bluetooth on for couple of hours it gives me full day of battery varing from 4/5 to 6/7 hours sot per dayPerformance is top notch plays every game and every task with easeVery premium phone look...READ MORE  \n",
       "1                                                                                                                                                                                                                                                  Great device. Let me tell the Pros..1. Superb build quality 2. Great display. 3. Camera is great in good lighting conditions 4. Processing is great. 5. Sound is superb. 6. Call quality is great. 7. Red colour looks superb.8. Portrait mode photography is Superb.READ MORE  \n",
       "2                                                                                                                                                                                                                                                                                                                                                                            Who all loves older size i.e., 4.7 inch type should definitely go for this.  Nothing is better than XR, XS or 11. Best for price and usage.READ MORE  \n",
       "3         This iPhone SE is the best phone ever you get. Beautifully designed gives a classy look in your palms. Moreover, performance wise it is a benchmark. You will not be disappointed in this budget. My purchase point was its size. If you are looking for the same you won’t be disappointed. I strongly recommend this phone to people who is more work oriented. Game loves should skip this phone as this is not a game phone. Best features with stunning looks & performance. Battery life is very good...READ MORE  \n",
       "4     This is my second iphone after iphone 4s. I’ve been a long time android user in between. I’ll tell you who this phone is for. Prospective buyers can then decide1. For photo and video enthusiasts. Very reliable camera. Fast and excellent picture quality. Videos are absolutely stable and professional quality. You would be amazed how many people shoot Youtube videos on an iPhone. The only downside is that the display doesn’t do justice to the photos and videos you have taken. Night photos are ...READ MORE  \n",
       "...                                                                                                                                                                                                                                                                                                                                                                                                                                                                                                                           ...  \n",
       "9708                                                                                                                                                                                                                                                                                                                                                                                                                                                                                                Absolutely brilliantREAD MORE  \n",
       "9709                                                                                                                                                                                                                                                                                                                                                                                                                     Superb phone. This is my 4th iPhone, I feel SE 2020is the thinnest and pocket friendly product.READ MORE  \n",
       "9710                                                                                                                                                                                                                                                                                                                                                                                                                                                                                                           very niceREAD MORE  \n",
       "9711                                                                                                                                                                                                                                                                                                                                                                                                                                                                                 Loving it as of now. Good Product .READ MORE  \n",
       "9712                                                                                                                                                                                                                                                                                                                                                                                                                                                                                                NiceElegant ElectricREAD MORE  \n",
       "\n",
       "[9064 rows x 3 columns]"
      ]
     },
     "execution_count": 121,
     "metadata": {},
     "output_type": "execute_result"
    }
   ],
   "source": [
    "df.drop_duplicates(inplace=True)\n",
    "df"
   ]
  },
  {
   "cell_type": "code",
   "execution_count": 122,
   "id": "9502f1dd",
   "metadata": {},
   "outputs": [
    {
     "data": {
      "text/plain": [
       "Ratings    0\n",
       "Comment    0\n",
       "Reviews    0\n",
       "dtype: int64"
      ]
     },
     "execution_count": 122,
     "metadata": {},
     "output_type": "execute_result"
    }
   ],
   "source": [
    "df.isna().sum()"
   ]
  },
  {
   "cell_type": "code",
   "execution_count": 123,
   "id": "4856372b",
   "metadata": {
    "scrolled": true
   },
   "outputs": [
    {
     "name": "stderr",
     "output_type": "stream",
     "text": [
      "C:\\Users\\HP\\anaconda3\\lib\\site-packages\\seaborn\\_decorators.py:36: FutureWarning: Pass the following variable as a keyword arg: x. From version 0.12, the only valid positional argument will be `data`, and passing other arguments without an explicit keyword will result in an error or misinterpretation.\n",
      "  warnings.warn(\n"
     ]
    },
    {
     "data": {
      "text/plain": [
       "<AxesSubplot:xlabel='Ratings', ylabel='count'>"
      ]
     },
     "execution_count": 123,
     "metadata": {},
     "output_type": "execute_result"
    },
    {
     "data": {
      "image/png": "[encoded data removed]",
      "text/plain": [
       "<Figure size 432x288 with 1 Axes>"
      ]
     },
     "metadata": {},
     "output_type": "display_data"
    }
   ],
   "source": [
    "sns.countplot(df[\"Ratings\"])"
   ]
  },
  {
   "cell_type": "markdown",
   "id": "5d125c68",
   "metadata": {},
   "source": [
    " - convert lower\n",
    " - english stop words \n",
    " - panctuations"
   ]
  },
  {
   "cell_type": "code",
   "execution_count": 124,
   "id": "b1565a86",
   "metadata": {},
   "outputs": [
    {
     "data": {
      "text/plain": [
       "0    Great camera for pics and videos Battery life is good so far with some setting turn of which i never use and when i use i turn those on and i use it in power saving mode all the time so a full day with light gaming of 1hr or more using camera for 1hr or more listening music in my car on youtube and Bluetooth on for couple of hours it gives me full day of battery varing from 4/5 to 6/7 hours sot per dayPerformance is top notch plays every game and every task with easeVery premium phone look...READ MORE\n",
       "Name: Reviews, dtype: object"
      ]
     },
     "execution_count": 124,
     "metadata": {},
     "output_type": "execute_result"
    }
   ],
   "source": [
    "df['Reviews'].head(1)"
   ]
  },
  {
   "cell_type": "code",
   "execution_count": 125,
   "id": "966ee2f3",
   "metadata": {},
   "outputs": [
    {
     "data": {
      "text/html": [
       "<div>\n",
       "<style scoped>\n",
       "    .dataframe tbody tr th:only-of-type {\n",
       "        vertical-align: middle;\n",
       "    }\n",
       "\n",
       "    .dataframe tbody tr th {\n",
       "        vertical-align: top;\n",
       "    }\n",
       "\n",
       "    .dataframe thead th {\n",
       "        text-align: right;\n",
       "    }\n",
       "</style>\n",
       "<table border=\"1\" class=\"dataframe\">\n",
       "  <thead>\n",
       "    <tr style=\"text-align: right;\">\n",
       "      <th></th>\n",
       "      <th>Ratings</th>\n",
       "      <th>Comment</th>\n",
       "      <th>Reviews</th>\n",
       "    </tr>\n",
       "  </thead>\n",
       "  <tbody>\n",
       "    <tr>\n",
       "      <th>0</th>\n",
       "      <td>5</td>\n",
       "      <td>Super!</td>\n",
       "      <td>great camera for pics and videos battery life is good so far with some setting turn of which i never use and when i use i turn those on and i use it in power saving mode all the time so a full day with light gaming of   or more using camera for   or more listening music in my car on youtube and bluetooth on for couple of hours it gives me full day of battery varing from     to     hours sot per dayperformance is top notch plays every game and every task with easevery premium phone look   read more</td>\n",
       "    </tr>\n",
       "    <tr>\n",
       "      <th>1</th>\n",
       "      <td>5</td>\n",
       "      <td>Must buy!</td>\n",
       "      <td>great device  let me tell the pros     superb build quality    great display     camera is great in good lighting conditions    processing is great     sound is superb     call quality is great     red colour looks superb    portrait mode photography is superb read more</td>\n",
       "    </tr>\n",
       "    <tr>\n",
       "      <th>2</th>\n",
       "      <td>5</td>\n",
       "      <td>Great product</td>\n",
       "      <td>who all loves older size i e       inch type should definitely go for this   nothing is better than xr  xs or    best for price and usage read more</td>\n",
       "    </tr>\n",
       "    <tr>\n",
       "      <th>3</th>\n",
       "      <td>5</td>\n",
       "      <td>Simply awesome</td>\n",
       "      <td>this iphone se is the best phone ever you get  beautifully designed gives a classy look in your palms  moreover  performance wise it is a benchmark  you will not be disappointed in this budget  my purchase point was its size  if you are looking for the same you won’t be disappointed  i strongly recommend this phone to people who is more work oriented  game loves should skip this phone as this is not a game phone  best features with stunning looks   performance  battery life is very good   read more</td>\n",
       "    </tr>\n",
       "    <tr>\n",
       "      <th>4</th>\n",
       "      <td>5</td>\n",
       "      <td>Classy product</td>\n",
       "      <td>this is my second iphone after iphone    i’ve been a long time android user in between  i’ll tell you who this phone is for  prospective buyers can then    for photo and video enthusiasts  very reliable camera  fast and excellent picture quality  videos are absolutely stable and professional quality  you would be amazed how many people shoot youtube videos on an iphone  the only downside is that the display doesn’t do justice to the photos and videos you have taken  night photos are    read more</td>\n",
       "    </tr>\n",
       "  </tbody>\n",
       "</table>\n",
       "</div>"
      ],
      "text/plain": [
       "   Ratings         Comment  \\\n",
       "0        5          Super!   \n",
       "1        5       Must buy!   \n",
       "2        5   Great product   \n",
       "3        5  Simply awesome   \n",
       "4        5  Classy product   \n",
       "\n",
       "                                                                                                                                                                                                                                                                                                                                                                                                                                                                                                                   Reviews  \n",
       "0   great camera for pics and videos battery life is good so far with some setting turn of which i never use and when i use i turn those on and i use it in power saving mode all the time so a full day with light gaming of   or more using camera for   or more listening music in my car on youtube and bluetooth on for couple of hours it gives me full day of battery varing from     to     hours sot per dayperformance is top notch plays every game and every task with easevery premium phone look   read more  \n",
       "1                                                                                                                                                                                                                                           great device  let me tell the pros     superb build quality    great display     camera is great in good lighting conditions    processing is great     sound is superb     call quality is great     red colour looks superb    portrait mode photography is superb read more  \n",
       "2                                                                                                                                                                                                                                                                                                                                                                      who all loves older size i e       inch type should definitely go for this   nothing is better than xr  xs or    best for price and usage read more  \n",
       "3  this iphone se is the best phone ever you get  beautifully designed gives a classy look in your palms  moreover  performance wise it is a benchmark  you will not be disappointed in this budget  my purchase point was its size  if you are looking for the same you won’t be disappointed  i strongly recommend this phone to people who is more work oriented  game loves should skip this phone as this is not a game phone  best features with stunning looks   performance  battery life is very good   read more  \n",
       "4     this is my second iphone after iphone    i’ve been a long time android user in between  i’ll tell you who this phone is for  prospective buyers can then    for photo and video enthusiasts  very reliable camera  fast and excellent picture quality  videos are absolutely stable and professional quality  you would be amazed how many people shoot youtube videos on an iphone  the only downside is that the display doesn’t do justice to the photos and videos you have taken  night photos are    read more  "
      ]
     },
     "execution_count": 125,
     "metadata": {},
     "output_type": "execute_result"
    }
   ],
   "source": [
    "import re\n",
    "import string\n",
    "\n",
    "alphanumeric = lambda x: re.sub('\\w*\\d\\w*', ' ', x)\n",
    "punc_lower = lambda x: re.sub('[%s]' % re.escape(string.punctuation), ' ', x.lower())\n",
    "\n",
    "df['Reviews'] = df.Reviews.map(alphanumeric).map(punc_lower)\n",
    "df.head()\n"
   ]
  },
  {
   "cell_type": "code",
   "execution_count": 126,
   "id": "f64932ed",
   "metadata": {},
   "outputs": [
    {
     "data": {
      "text/html": [
       "<div>\n",
       "<style scoped>\n",
       "    .dataframe tbody tr th:only-of-type {\n",
       "        vertical-align: middle;\n",
       "    }\n",
       "\n",
       "    .dataframe tbody tr th {\n",
       "        vertical-align: top;\n",
       "    }\n",
       "\n",
       "    .dataframe thead th {\n",
       "        text-align: right;\n",
       "    }\n",
       "</style>\n",
       "<table border=\"1\" class=\"dataframe\">\n",
       "  <thead>\n",
       "    <tr style=\"text-align: right;\">\n",
       "      <th></th>\n",
       "      <th>Ratings</th>\n",
       "      <th>Comment</th>\n",
       "      <th>Reviews</th>\n",
       "    </tr>\n",
       "  </thead>\n",
       "  <tbody>\n",
       "    <tr>\n",
       "      <th>7549</th>\n",
       "      <td>1</td>\n",
       "      <td>Worthless</td>\n",
       "      <td>worse decision ever i made is to buy this phone  never go for iphoneread more</td>\n",
       "    </tr>\n",
       "    <tr>\n",
       "      <th>2288</th>\n",
       "      <td>5</td>\n",
       "      <td>Classy product</td>\n",
       "      <td>value for money best mobile phone at the price range read more</td>\n",
       "    </tr>\n",
       "    <tr>\n",
       "      <th>9464</th>\n",
       "      <td>5</td>\n",
       "      <td>Simply awesome</td>\n",
       "      <td>nice phone handy 👍read more</td>\n",
       "    </tr>\n",
       "    <tr>\n",
       "      <th>8933</th>\n",
       "      <td>5</td>\n",
       "      <td>Perfect product!</td>\n",
       "      <td>it is really very amazing 😍😍read more</td>\n",
       "    </tr>\n",
       "    <tr>\n",
       "      <th>5050</th>\n",
       "      <td>5</td>\n",
       "      <td>Simply awesome</td>\n",
       "      <td>fantastic product  good quality and again nice flipkart serviceread more</td>\n",
       "    </tr>\n",
       "    <tr>\n",
       "      <th>6805</th>\n",
       "      <td>5</td>\n",
       "      <td>Wonderful</td>\n",
       "      <td>i like it very muchread more</td>\n",
       "    </tr>\n",
       "    <tr>\n",
       "      <th>8331</th>\n",
       "      <td>5</td>\n",
       "      <td>Wonderful</td>\n",
       "      <td>nice phone 👌 value for moneyread more</td>\n",
       "    </tr>\n",
       "    <tr>\n",
       "      <th>4277</th>\n",
       "      <td>5</td>\n",
       "      <td>Terrific purchase</td>\n",
       "      <td>a good phone with high performance no lag pubg is running like waterread more</td>\n",
       "    </tr>\n",
       "    <tr>\n",
       "      <th>6427</th>\n",
       "      <td>5</td>\n",
       "      <td>Just wow!</td>\n",
       "      <td>neither good nor bad for   rs read more</td>\n",
       "    </tr>\n",
       "    <tr>\n",
       "      <th>6916</th>\n",
       "      <td>5</td>\n",
       "      <td>Mind-blowing purchase</td>\n",
       "      <td>the phone needs no introduction at all  however i would like to point some key elements like the camera which is by far the best in single camera category  then next comes the performance which is marvelous and super smooth  the only downside is its battery capacity which is not that bad but due to the time taken while charging with the in box charger  it makes it a bit slow but if we keep that aside then its the best phone as the price read more</td>\n",
       "    </tr>\n",
       "    <tr>\n",
       "      <th>9641</th>\n",
       "      <td>5</td>\n",
       "      <td>Best in the market!</td>\n",
       "      <td>awesome purchase  thanku flipkart read more</td>\n",
       "    </tr>\n",
       "    <tr>\n",
       "      <th>5083</th>\n",
       "      <td>5</td>\n",
       "      <td>Awesome</td>\n",
       "      <td>product is awesome  flipkart delivery is worstread more</td>\n",
       "    </tr>\n",
       "    <tr>\n",
       "      <th>3026</th>\n",
       "      <td>5</td>\n",
       "      <td>Wonderful</td>\n",
       "      <td>yeah goodread more</td>\n",
       "    </tr>\n",
       "    <tr>\n",
       "      <th>1509</th>\n",
       "      <td>5</td>\n",
       "      <td>Must buy!</td>\n",
       "      <td>front cam useless  display is very good as per size  good performance  battery is average  rear cam is good read more</td>\n",
       "    </tr>\n",
       "    <tr>\n",
       "      <th>1907</th>\n",
       "      <td>5</td>\n",
       "      <td>Brilliant</td>\n",
       "      <td>awesomeread more</td>\n",
       "    </tr>\n",
       "    <tr>\n",
       "      <th>7520</th>\n",
       "      <td>5</td>\n",
       "      <td>Brilliant</td>\n",
       "      <td>battery is okay for normal use   but if you play lot of games  this isnt for you  premium lookeasy to hold  i love it small in size read more</td>\n",
       "    </tr>\n",
       "    <tr>\n",
       "      <th>5446</th>\n",
       "      <td>5</td>\n",
       "      <td>Terrific</td>\n",
       "      <td>good performance mobile for daily useread more</td>\n",
       "    </tr>\n",
       "    <tr>\n",
       "      <th>6268</th>\n",
       "      <td>5</td>\n",
       "      <td>Super!</td>\n",
       "      <td>best quality product read more</td>\n",
       "    </tr>\n",
       "    <tr>\n",
       "      <th>5714</th>\n",
       "      <td>5</td>\n",
       "      <td>Perfect product!</td>\n",
       "      <td>superbread more</td>\n",
       "    </tr>\n",
       "    <tr>\n",
       "      <th>7148</th>\n",
       "      <td>4</td>\n",
       "      <td>Worth the money</td>\n",
       "      <td>chota packet bada dhamka   good phone for short people or peoples who like small phone got it for   more</td>\n",
       "    </tr>\n",
       "  </tbody>\n",
       "</table>\n",
       "</div>"
      ],
      "text/plain": [
       "      Ratings                Comment  \\\n",
       "7549        1              Worthless   \n",
       "2288        5         Classy product   \n",
       "9464        5         Simply awesome   \n",
       "8933        5       Perfect product!   \n",
       "5050        5         Simply awesome   \n",
       "6805        5              Wonderful   \n",
       "8331        5              Wonderful   \n",
       "4277        5      Terrific purchase   \n",
       "6427        5              Just wow!   \n",
       "6916        5  Mind-blowing purchase   \n",
       "9641        5    Best in the market!   \n",
       "5083        5                Awesome   \n",
       "3026        5              Wonderful   \n",
       "1509        5              Must buy!   \n",
       "1907        5              Brilliant   \n",
       "7520        5              Brilliant   \n",
       "5446        5               Terrific   \n",
       "6268        5                 Super!   \n",
       "5714        5       Perfect product!   \n",
       "7148        4        Worth the money   \n",
       "\n",
       "                                                                                                                                                                                                                                                                                                                                                                                                                                                                 Reviews  \n",
       "7549                                                                                                                                                                                                                                                                                                                                                                                       worse decision ever i made is to buy this phone  never go for iphoneread more  \n",
       "2288                                                                                                                                                                                                                                                                                                                                                                                                      value for money best mobile phone at the price range read more  \n",
       "9464                                                                                                                                                                                                                                                                                                                                                                                                                                         nice phone handy 👍read more  \n",
       "8933                                                                                                                                                                                                                                                                                                                                                                                                                               it is really very amazing 😍😍read more  \n",
       "5050                                                                                                                                                                                                                                                                                                                                                                                            fantastic product  good quality and again nice flipkart serviceread more  \n",
       "6805                                                                                                                                                                                                                                                                                                                                                                                                                                        i like it very muchread more  \n",
       "8331                                                                                                                                                                                                                                                                                                                                                                                                                               nice phone 👌 value for moneyread more  \n",
       "4277                                                                                                                                                                                                                                                                                                                                                                                       a good phone with high performance no lag pubg is running like waterread more  \n",
       "6427                                                                                                                                                                                                                                                                                                                                                                                                                             neither good nor bad for   rs read more  \n",
       "6916  the phone needs no introduction at all  however i would like to point some key elements like the camera which is by far the best in single camera category  then next comes the performance which is marvelous and super smooth  the only downside is its battery capacity which is not that bad but due to the time taken while charging with the in box charger  it makes it a bit slow but if we keep that aside then its the best phone as the price read more  \n",
       "9641                                                                                                                                                                                                                                                                                                                                                                                                                         awesome purchase  thanku flipkart read more  \n",
       "5083                                                                                                                                                                                                                                                                                                                                                                                                             product is awesome  flipkart delivery is worstread more  \n",
       "3026                                                                                                                                                                                                                                                                                                                                                                                                                                                  yeah goodread more  \n",
       "1509                                                                                                                                                                                                                                                                                                                                               front cam useless  display is very good as per size  good performance  battery is average  rear cam is good read more  \n",
       "1907                                                                                                                                                                                                                                                                                                                                                                                                                                                    awesomeread more  \n",
       "7520                                                                                                                                                                                                                                                                                                                       battery is okay for normal use   but if you play lot of games  this isnt for you  premium lookeasy to hold  i love it small in size read more  \n",
       "5446                                                                                                                                                                                                                                                                                                                                                                                                                      good performance mobile for daily useread more  \n",
       "6268                                                                                                                                                                                                                                                                                                                                                                                                                                      best quality product read more  \n",
       "5714                                                                                                                                                                                                                                                                                                                                                                                                                                                     superbread more  \n",
       "7148                                                                                                                                                                                                                                                                                                                                                            chota packet bada dhamka   good phone for short people or peoples who like small phone got it for   more  "
      ]
     },
     "execution_count": 126,
     "metadata": {},
     "output_type": "execute_result"
    }
   ],
   "source": [
    "df.sample(20)"
   ]
  },
  {
   "cell_type": "code",
   "execution_count": 127,
   "id": "f30e627c",
   "metadata": {},
   "outputs": [
    {
     "data": {
      "text/plain": [
       "'great camera for pics and videos battery life is good so far with some setting turn of which i never use and when i use i turn those on and i use it in power saving mode all the time so a full day with light gaming of   or more using camera for   or more listening music in my car on youtube and bluetooth on for couple of hours it gives me full day of battery varing from     to     hours sot per dayperformance is top notch plays every game and every task with easevery premium phone look   read more'"
      ]
     },
     "execution_count": 127,
     "metadata": {},
     "output_type": "execute_result"
    }
   ],
   "source": [
    "df.Reviews[0]"
   ]
  },
  {
   "cell_type": "code",
   "execution_count": 128,
   "id": "73138a91",
   "metadata": {},
   "outputs": [
    {
     "data": {
      "text/plain": [
       "0    great camera for pics and videos battery life is good so far with some setting turn of which i never use and when i use i turn those on and i use it in power saving mode all the time so a full day with light gaming of   or more using camera for   or more listening music in my car on youtube and bluetooth on for couple of hours it gives me full day of battery varing from     to     hours sot per dayperformance is top notch plays every game and every task with easevery premium phone look   read more\n",
       "Name: Reviews, dtype: object"
      ]
     },
     "execution_count": 128,
     "metadata": {},
     "output_type": "execute_result"
    }
   ],
   "source": [
    "# pd.set_option(\"max_columns\", None)\n",
    "pd.set_option('max_colwidth', None)\n",
    "df['Reviews'].head(1)"
   ]
  },
  {
   "cell_type": "code",
   "execution_count": 129,
   "id": "868d50ed",
   "metadata": {},
   "outputs": [],
   "source": [
    "import neattext.functions as nf"
   ]
  },
  {
   "cell_type": "code",
   "execution_count": 130,
   "id": "1e52070a",
   "metadata": {},
   "outputs": [
    {
     "data": {
      "text/plain": [
       "0                                      great camera pics videos battery life good far setting turn use use turn use power saving mode time day light gaming camera listening music car youtube bluetooth couple hours gives day battery varing hours sot dayperformance notch plays game task easevery premium phone look read\n",
       "1                                                                                                                great device let tell pros superb build quality great display camera great good lighting conditions processing great sound superb quality great red colour looks superb portrait mode photography superb read\n",
       "2                                                                                                                                                                                                                                                   loves older size e inch type definitely better xr xs best price usage read\n",
       "3                iphone se best phone beautifully designed gives classy look palms performance wise benchmark disappointed budget purchase point size looking wont disappointed strongly recommend phone people work oriented game loves skip phone game phone best features stunning looks performance battery life good read\n",
       "4       second iphone iphone ive long time android user ill tell phone prospective buyers photo video enthusiasts reliable camera fast excellent picture quality videos absolutely stable professional quality amazed people shoot youtube videos iphone downside display doesnt justice photos videos taken night photos read\n",
       "                                                                                                                                                                 ...                                                                                                                                                          \n",
       "9708                                                                                                                                                                                                                                                                                                  absolutely brilliantread\n",
       "9709                                                                                                                                                                                                                                                         superb phone iphone feel se thinnest pocket friendly product read\n",
       "9710                                                                                                                                                                                                                                                                                                                  niceread\n",
       "9711                                                                                                                                                                                                                                                                                                  loving good product read\n",
       "9712                                                                                                                                                                                                                                                                                                  niceelegant electricread\n",
       "Name: Reviews, Length: 9064, dtype: object"
      ]
     },
     "execution_count": 130,
     "metadata": {},
     "output_type": "execute_result"
    }
   ],
   "source": [
    "df['Reviews'] = df['Reviews'].apply(nf.remove_puncts)\n",
    "df['Reviews'] = df['Reviews'].apply(nf.remove_numbers)\n",
    "df['Reviews'] = df['Reviews'].apply(nf.remove_multiple_spaces)\n",
    "df['Reviews'] = df['Reviews'].apply(nf.remove_special_characters)\n",
    "df['Reviews'] = df['Reviews'].apply(nf.remove_stopwords)\n",
    "\n",
    "lower = lambda x : x.lower()\n",
    "df['Reviews'].map(lower)"
   ]
  },
  {
   "cell_type": "code",
   "execution_count": 131,
   "id": "062f7cac",
   "metadata": {},
   "outputs": [],
   "source": [
    "df['Reviews'] = df['Reviews'].apply(nf.clean_text)"
   ]
  },
  {
   "cell_type": "code",
   "execution_count": 132,
   "id": "bdacc7c5",
   "metadata": {},
   "outputs": [],
   "source": [
    "df['Comment'] = df['Comment'].apply(nf.clean_text)"
   ]
  },
  {
   "cell_type": "code",
   "execution_count": 133,
   "id": "074be42c",
   "metadata": {},
   "outputs": [
    {
     "data": {
      "text/plain": [
       "0    great camera pics videos battery life good far setting turn use use turn use power saving mode time day light gaming camera listening music car youtube bluetooth couple hours gives day battery varing hours sot dayperformance notch plays game task easevery premium phone look read\n",
       "Name: Reviews, dtype: object"
      ]
     },
     "execution_count": 133,
     "metadata": {},
     "output_type": "execute_result"
    }
   ],
   "source": [
    "df['Reviews'].head(1)"
   ]
  },
  {
   "cell_type": "code",
   "execution_count": 134,
   "id": "a5894c7d",
   "metadata": {},
   "outputs": [],
   "source": [
    "def add_reviews(x):\n",
    "        if x['Ratings'] >= 3 : \n",
    "            text = 'Positive'\n",
    "\n",
    "        elif x['Ratings'] < 3 : \n",
    "            text = 'Negative'\n",
    "        return text\n",
    "\n",
    "df['Sentiment'] = df.apply(add_reviews,axis=1)"
   ]
  },
  {
   "cell_type": "code",
   "execution_count": 135,
   "id": "8324e7f3",
   "metadata": {},
   "outputs": [
    {
     "data": {
      "text/html": [
       "<div>\n",
       "<style scoped>\n",
       "    .dataframe tbody tr th:only-of-type {\n",
       "        vertical-align: middle;\n",
       "    }\n",
       "\n",
       "    .dataframe tbody tr th {\n",
       "        vertical-align: top;\n",
       "    }\n",
       "\n",
       "    .dataframe thead th {\n",
       "        text-align: right;\n",
       "    }\n",
       "</style>\n",
       "<table border=\"1\" class=\"dataframe\">\n",
       "  <thead>\n",
       "    <tr style=\"text-align: right;\">\n",
       "      <th></th>\n",
       "      <th>Ratings</th>\n",
       "      <th>Comment</th>\n",
       "      <th>Reviews</th>\n",
       "      <th>Sentiment</th>\n",
       "    </tr>\n",
       "  </thead>\n",
       "  <tbody>\n",
       "    <tr>\n",
       "      <th>0</th>\n",
       "      <td>5</td>\n",
       "      <td>super!</td>\n",
       "      <td>great camera pics videos battery life good far setting turn use use turn use power saving mode time day light gaming camera listening music car youtube bluetooth couple hours gives day battery varing hours sot dayperformance notch plays game task easevery premium phone look read</td>\n",
       "      <td>Positive</td>\n",
       "    </tr>\n",
       "    <tr>\n",
       "      <th>1</th>\n",
       "      <td>5</td>\n",
       "      <td>buy!</td>\n",
       "      <td>great device let tell pros superb build quality great display camera great good lighting conditions processing great sound superb quality great red colour looks superb portrait mode photography superb read</td>\n",
       "      <td>Positive</td>\n",
       "    </tr>\n",
       "    <tr>\n",
       "      <th>2</th>\n",
       "      <td>5</td>\n",
       "      <td>great product</td>\n",
       "      <td>loves older size e inch type definitely better xr xs best price usage read</td>\n",
       "      <td>Positive</td>\n",
       "    </tr>\n",
       "    <tr>\n",
       "      <th>3</th>\n",
       "      <td>5</td>\n",
       "      <td>simply awesome</td>\n",
       "      <td>iphone se best phone beautifully designed gives classy look palms performance wise benchmark disappointed budget purchase point size looking wont disappointed strongly recommend phone people work oriented game loves skip phone game phone best features stunning looks performance battery life good read</td>\n",
       "      <td>Positive</td>\n",
       "    </tr>\n",
       "    <tr>\n",
       "      <th>4</th>\n",
       "      <td>5</td>\n",
       "      <td>classy product</td>\n",
       "      <td>second iphone iphone ive long time android user ill tell phone prospective buyers photo video enthusiasts reliable camera fast excellent picture quality videos absolutely stable professional quality amazed people shoot youtube videos iphone downside display doesnt justice photos videos taken night photos read</td>\n",
       "      <td>Positive</td>\n",
       "    </tr>\n",
       "    <tr>\n",
       "      <th>5</th>\n",
       "      <td>4</td>\n",
       "      <td>love home touch</td>\n",
       "      <td>totally worth price ios fan like compact phone want switch android iphone like clicking good photos camera unbeatable multitask normal phones stuck apps going hiatus lag like listen music speakers watch movie music feels like dolby atmos lot technical advantages dont want yo read</td>\n",
       "      <td>Positive</td>\n",
       "    </tr>\n",
       "    <tr>\n",
       "      <th>6</th>\n",
       "      <td>4</td>\n",
       "      <td>wonderful</td>\n",
       "      <td>mobile handy packed good performances nice camera iphone good experience apple battery worst hardly getting hours screen time positive thing came know hours spending mobile poor battery mobile hours day read</td>\n",
       "      <td>Positive</td>\n",
       "    </tr>\n",
       "    <tr>\n",
       "      <th>7</th>\n",
       "      <td>4</td>\n",
       "      <td>worth money</td>\n",
       "      <td>compact handy good image stability gives amazing experience battery capacity little poor worth buying budget ratingread</td>\n",
       "      <td>Positive</td>\n",
       "    </tr>\n",
       "    <tr>\n",
       "      <th>8</th>\n",
       "      <td>4</td>\n",
       "      <td>good</td>\n",
       "      <td>going use apple time amazed performance wise phone ultra camera pretty good attached images taken indoor display good best thing phone size easy use phone singe handedly excellent grip fits crisply pockets worst thing battery doesnt long better power bank avoid sudden switch read</td>\n",
       "      <td>Positive</td>\n",
       "    </tr>\n",
       "    <tr>\n",
       "      <th>9</th>\n",
       "      <td>3</td>\n",
       "      <td>iphone se budgeted phone 2020?</td>\n",
       "      <td>purchased new iphone se based usage week rate product follows pros display quality good camera quality excellent takes sharp images blurriness touch sensor works precisely durability phone good quality body aluminum durable aluminum mobile industry read</td>\n",
       "      <td>Positive</td>\n",
       "    </tr>\n",
       "  </tbody>\n",
       "</table>\n",
       "</div>"
      ],
      "text/plain": [
       "   Ratings                         Comment  \\\n",
       "0        5                          super!   \n",
       "1        5                            buy!   \n",
       "2        5                   great product   \n",
       "3        5                  simply awesome   \n",
       "4        5                  classy product   \n",
       "5        4                 love home touch   \n",
       "6        4                       wonderful   \n",
       "7        4                     worth money   \n",
       "8        4                            good   \n",
       "9        3  iphone se budgeted phone 2020?   \n",
       "\n",
       "                                                                                                                                                                                                                                                                                                                  Reviews  \\\n",
       "0                                 great camera pics videos battery life good far setting turn use use turn use power saving mode time day light gaming camera listening music car youtube bluetooth couple hours gives day battery varing hours sot dayperformance notch plays game task easevery premium phone look read   \n",
       "1                                                                                                           great device let tell pros superb build quality great display camera great good lighting conditions processing great sound superb quality great red colour looks superb portrait mode photography superb read   \n",
       "2                                                                                                                                                                                                                                              loves older size e inch type definitely better xr xs best price usage read   \n",
       "3           iphone se best phone beautifully designed gives classy look palms performance wise benchmark disappointed budget purchase point size looking wont disappointed strongly recommend phone people work oriented game loves skip phone game phone best features stunning looks performance battery life good read   \n",
       "4  second iphone iphone ive long time android user ill tell phone prospective buyers photo video enthusiasts reliable camera fast excellent picture quality videos absolutely stable professional quality amazed people shoot youtube videos iphone downside display doesnt justice photos videos taken night photos read   \n",
       "5                                totally worth price ios fan like compact phone want switch android iphone like clicking good photos camera unbeatable multitask normal phones stuck apps going hiatus lag like listen music speakers watch movie music feels like dolby atmos lot technical advantages dont want yo read   \n",
       "6                                                                                                         mobile handy packed good performances nice camera iphone good experience apple battery worst hardly getting hours screen time positive thing came know hours spending mobile poor battery mobile hours day read   \n",
       "7                                                                                                                                                                                                 compact handy good image stability gives amazing experience battery capacity little poor worth buying budget ratingread   \n",
       "8                                going use apple time amazed performance wise phone ultra camera pretty good attached images taken indoor display good best thing phone size easy use phone singe handedly excellent grip fits crisply pockets worst thing battery doesnt long better power bank avoid sudden switch read   \n",
       "9                                                           purchased new iphone se based usage week rate product follows pros display quality good camera quality excellent takes sharp images blurriness touch sensor works precisely durability phone good quality body aluminum durable aluminum mobile industry read   \n",
       "\n",
       "  Sentiment  \n",
       "0  Positive  \n",
       "1  Positive  \n",
       "2  Positive  \n",
       "3  Positive  \n",
       "4  Positive  \n",
       "5  Positive  \n",
       "6  Positive  \n",
       "7  Positive  \n",
       "8  Positive  \n",
       "9  Positive  "
      ]
     },
     "execution_count": 135,
     "metadata": {},
     "output_type": "execute_result"
    }
   ],
   "source": [
    "df.head(10)"
   ]
  },
  {
   "cell_type": "code",
   "execution_count": 139,
   "id": "1cd184ba",
   "metadata": {},
   "outputs": [
    {
     "name": "stderr",
     "output_type": "stream",
     "text": [
      "C:\\Users\\HP\\anaconda3\\lib\\site-packages\\seaborn\\_decorators.py:36: FutureWarning: Pass the following variable as a keyword arg: x. From version 0.12, the only valid positional argument will be `data`, and passing other arguments without an explicit keyword will result in an error or misinterpretation.\n",
      "  warnings.warn(\n"
     ]
    },
    {
     "data": {
      "text/plain": [
       "<AxesSubplot:xlabel='Sentiment', ylabel='count'>"
      ]
     },
     "execution_count": 139,
     "metadata": {},
     "output_type": "execute_result"
    },
    {
     "data": {
      "image/png": "[encoded data removed]",
      "text/plain": [
       "<Figure size 432x288 with 1 Axes>"
      ]
     },
     "metadata": {},
     "output_type": "display_data"
    }
   ],
   "source": [
    "sns.countplot(df[\"Sentiment\"])"
   ]
  },
  {
   "cell_type": "code",
   "execution_count": 137,
   "id": "dd78d53e",
   "metadata": {},
   "outputs": [
    {
     "data": {
      "image/png": "[encoded data removed]",
      "text/plain": [
       "<Figure size 1440x1080 with 2 Axes>"
      ]
     },
     "metadata": {},
     "output_type": "display_data"
    }
   ],
   "source": [
    "fig, ax = plt.subplots(2,1,figsize=(20,15))\n",
    "\n",
    "ax[0].bar(df['Comment'].value_counts().index[:5], df['Comment'].value_counts().values[:5])\n",
    "ax[0].set_title('Barplot Top 5 Comments')\n",
    "\n",
    "ax[1].bar(df['Comment'].value_counts().index[-5:], df['Comment'].value_counts().values[-5:])\n",
    "ax[1].set_title('Barplot Least 5 Comments')\n",
    "plt.show()"
   ]
  },
  {
   "cell_type": "code",
   "execution_count": 144,
   "id": "7568d979",
   "metadata": {},
   "outputs": [],
   "source": [
    "import pandas as pd\n",
    "from sklearn.feature_extraction.text import CountVectorizer \n",
    "from sklearn.decomposition import TruncatedSVD\n",
    "from sklearn.decomposition import NMF\n",
    "from sklearn.metrics.pairwise import cosine_similarity\n"
   ]
  },
  {
   "cell_type": "code",
   "execution_count": 149,
   "id": "4b60568d",
   "metadata": {},
   "outputs": [],
   "source": [
    "Reviews = df['Reviews']"
   ]
  },
  {
   "cell_type": "code",
   "execution_count": null,
   "id": "9f4e04da",
   "metadata": {},
   "outputs": [],
   "source": []
  },
  {
   "cell_type": "code",
   "execution_count": null,
   "id": "eaaefb86",
   "metadata": {},
   "outputs": [],
   "source": []
  },
  {
   "cell_type": "code",
   "execution_count": null,
   "id": "2f00d1d3",
   "metadata": {},
   "outputs": [],
   "source": []
  }
 ],
 "metadata": {
  "kernelspec": {
   "display_name": "Python 3",
   "language": "python",
   "name": "python3"
  },
  "language_info": {
   "codemirror_mode": {
    "name": "ipython",
    "version": 3
   },
   "file_extension": ".py",
   "mimetype": "text/x-python",
   "name": "python",
   "nbconvert_exporter": "python",
   "pygments_lexer": "ipython3",
   "version": "3.8.8"
  }
 },
 "nbformat": 4,
 "nbformat_minor": 5
}
