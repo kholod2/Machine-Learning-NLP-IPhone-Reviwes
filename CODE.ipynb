{
 "cells": [
  {
   "cell_type": "markdown",
   "id": "154e75ed",
   "metadata": {},
   "source": [
    " ## Nlp iPhoneSE Reviwes: \n",
    "    \n",
    "    - look at the data\n",
    "    - cleaning \n",
    "    - visualize \n",
    "    - nlp cleaning \n",
    "    \n",
    "    - sentment analysis\n",
    "    - topic modeling\n",
    "    - recommendation engine\n",
    "    - clustering "
   ]
  },
  {
   "cell_type": "code",
   "execution_count": 16,
   "id": "45bcdbec",
   "metadata": {},
   "outputs": [
    {
     "name": "stdout",
     "output_type": "stream",
     "text": [
      "Requirement already satisfied: neattext in c:\\users\\hp\\anaconda3\\lib\\site-packages (0.1.2)\n",
      "Note: you may need to restart the kernel to use updated packages.\n"
     ]
    }
   ],
   "source": [
    "pip install neattext"
   ]
  },
  {
   "cell_type": "code",
   "execution_count": 101,
   "id": "2135d8c6",
   "metadata": {},
   "outputs": [],
   "source": [
    "pd.set_option('display.max_colwidth', 10000)\n",
    "import pandas as pd\n",
    "import matplotlib.pyplot as plt\n",
    "import seaborn as sns\n",
    "plt.style.use('ggplot')\n",
    "import statistics\n",
    "from sklearn.model_selection import train_test_split\n",
    "from sklearn.linear_model import LinearRegression\n",
    "import warnings\n",
    "import re # this is the regular expression library which helps us manipulate text (strings) fairly easily and intuitively\n",
    "import nltk # this is the Natural Language Tool Kit which contains a lot of functionalities for text analytics"
   ]
  },
  {
   "cell_type": "markdown",
   "id": "4e7d0dee",
   "metadata": {},
   "source": [
    "________"
   ]
  },
  {
   "cell_type": "code",
   "execution_count": 70,
   "id": "40bc99b6",
   "metadata": {},
   "outputs": [
    {
     "data": {
      "text/html": [
       "<div>\n",
       "<style scoped>\n",
       "    .dataframe tbody tr th:only-of-type {\n",
       "        vertical-align: middle;\n",
       "    }\n",
       "\n",
       "    .dataframe tbody tr th {\n",
       "        vertical-align: top;\n",
       "    }\n",
       "\n",
       "    .dataframe thead th {\n",
       "        text-align: right;\n",
       "    }\n",
       "</style>\n",
       "<table border=\"1\" class=\"dataframe\">\n",
       "  <thead>\n",
       "    <tr style=\"text-align: right;\">\n",
       "      <th></th>\n",
       "      <th>Ratings</th>\n",
       "      <th>Comment</th>\n",
       "      <th>Reviews</th>\n",
       "    </tr>\n",
       "  </thead>\n",
       "  <tbody>\n",
       "    <tr>\n",
       "      <th>0</th>\n",
       "      <td>5</td>\n",
       "      <td>Super!</td>\n",
       "      <td>Great camera for pics and videos Battery life is good so far with some setting turn of which i never use and when i use i turn those on and i use it in power saving mode all the time so a full day with light gaming of 1hr or more using camera for 1hr or more listening music in my car on youtube and Bluetooth on for couple of hours it gives me full day of battery varing from 4/5 to 6/7 hours sot per dayPerformance is top notch plays every game and every task with easeVery premium phone look...READ MORE</td>\n",
       "    </tr>\n",
       "    <tr>\n",
       "      <th>1</th>\n",
       "      <td>5</td>\n",
       "      <td>Must buy!</td>\n",
       "      <td>Great device. Let me tell the Pros..1. Superb build quality 2. Great display. 3. Camera is great in good lighting conditions 4. Processing is great. 5. Sound is superb. 6. Call quality is great. 7. Red colour looks superb.8. Portrait mode photography is Superb.READ MORE</td>\n",
       "    </tr>\n",
       "    <tr>\n",
       "      <th>2</th>\n",
       "      <td>5</td>\n",
       "      <td>Great product</td>\n",
       "      <td>Who all loves older size i.e., 4.7 inch type should definitely go for this.  Nothing is better than XR, XS or 11. Best for price and usage.READ MORE</td>\n",
       "    </tr>\n",
       "    <tr>\n",
       "      <th>3</th>\n",
       "      <td>5</td>\n",
       "      <td>Simply awesome</td>\n",
       "      <td>This iPhone SE is the best phone ever you get. Beautifully designed gives a classy look in your palms. Moreover, performance wise it is a benchmark. You will not be disappointed in this budget. My purchase point was its size. If you are looking for the same you won’t be disappointed. I strongly recommend this phone to people who is more work oriented. Game loves should skip this phone as this is not a game phone. Best features with stunning looks &amp; performance. Battery life is very good...READ MORE</td>\n",
       "    </tr>\n",
       "    <tr>\n",
       "      <th>4</th>\n",
       "      <td>5</td>\n",
       "      <td>Classy product</td>\n",
       "      <td>This is my second iphone after iphone 4s. I’ve been a long time android user in between. I’ll tell you who this phone is for. Prospective buyers can then decide1. For photo and video enthusiasts. Very reliable camera. Fast and excellent picture quality. Videos are absolutely stable and professional quality. You would be amazed how many people shoot Youtube videos on an iPhone. The only downside is that the display doesn’t do justice to the photos and videos you have taken. Night photos are ...READ MORE</td>\n",
       "    </tr>\n",
       "  </tbody>\n",
       "</table>\n",
       "</div>"
      ],
      "text/plain": [
       "   Ratings         Comment  \\\n",
       "0        5          Super!   \n",
       "1        5       Must buy!   \n",
       "2        5   Great product   \n",
       "3        5  Simply awesome   \n",
       "4        5  Classy product   \n",
       "\n",
       "                                                                                                                                                                                                                                                                                                                                                                                                                                                                                                                       Reviews  \n",
       "0   Great camera for pics and videos Battery life is good so far with some setting turn of which i never use and when i use i turn those on and i use it in power saving mode all the time so a full day with light gaming of 1hr or more using camera for 1hr or more listening music in my car on youtube and Bluetooth on for couple of hours it gives me full day of battery varing from 4/5 to 6/7 hours sot per dayPerformance is top notch plays every game and every task with easeVery premium phone look...READ MORE  \n",
       "1                                                                                                                                                                                                                                               Great device. Let me tell the Pros..1. Superb build quality 2. Great display. 3. Camera is great in good lighting conditions 4. Processing is great. 5. Sound is superb. 6. Call quality is great. 7. Red colour looks superb.8. Portrait mode photography is Superb.READ MORE  \n",
       "2                                                                                                                                                                                                                                                                                                                                                                         Who all loves older size i.e., 4.7 inch type should definitely go for this.  Nothing is better than XR, XS or 11. Best for price and usage.READ MORE  \n",
       "3      This iPhone SE is the best phone ever you get. Beautifully designed gives a classy look in your palms. Moreover, performance wise it is a benchmark. You will not be disappointed in this budget. My purchase point was its size. If you are looking for the same you won’t be disappointed. I strongly recommend this phone to people who is more work oriented. Game loves should skip this phone as this is not a game phone. Best features with stunning looks & performance. Battery life is very good...READ MORE  \n",
       "4  This is my second iphone after iphone 4s. I’ve been a long time android user in between. I’ll tell you who this phone is for. Prospective buyers can then decide1. For photo and video enthusiasts. Very reliable camera. Fast and excellent picture quality. Videos are absolutely stable and professional quality. You would be amazed how many people shoot Youtube videos on an iPhone. The only downside is that the display doesn’t do justice to the photos and videos you have taken. Night photos are ...READ MORE  "
      ]
     },
     "execution_count": 70,
     "metadata": {},
     "output_type": "execute_result"
    }
   ],
   "source": [
    "df = pd.read_csv('APPLE_iPhone_SE.csv')\n",
    "df.head()"
   ]
  },
  {
   "cell_type": "code",
   "execution_count": 71,
   "id": "6bc5d4df",
   "metadata": {},
   "outputs": [
    {
     "name": "stdout",
     "output_type": "stream",
     "text": [
      "<class 'pandas.core.frame.DataFrame'>\n",
      "RangeIndex: 9713 entries, 0 to 9712\n",
      "Data columns (total 3 columns):\n",
      " #   Column   Non-Null Count  Dtype \n",
      "---  ------   --------------  ----- \n",
      " 0   Ratings  9713 non-null   int64 \n",
      " 1   Comment  9713 non-null   object\n",
      " 2   Reviews  9713 non-null   object\n",
      "dtypes: int64(1), object(2)\n",
      "memory usage: 227.8+ KB\n"
     ]
    }
   ],
   "source": [
    "df.info()"
   ]
  },
  {
   "cell_type": "code",
   "execution_count": 72,
   "id": "876e7015",
   "metadata": {},
   "outputs": [
    {
     "data": {
      "text/plain": [
       "9713"
      ]
     },
     "execution_count": 72,
     "metadata": {},
     "output_type": "execute_result"
    }
   ],
   "source": [
    "len(df)"
   ]
  },
  {
   "cell_type": "code",
   "execution_count": 73,
   "id": "35ade2c7",
   "metadata": {},
   "outputs": [
    {
     "data": {
      "text/plain": [
       "(9713, 3)"
      ]
     },
     "execution_count": 73,
     "metadata": {},
     "output_type": "execute_result"
    }
   ],
   "source": [
    "df.shape"
   ]
  },
  {
   "cell_type": "code",
   "execution_count": 74,
   "id": "d74cd586",
   "metadata": {},
   "outputs": [
    {
     "data": {
      "text/plain": [
       "649"
      ]
     },
     "execution_count": 74,
     "metadata": {},
     "output_type": "execute_result"
    }
   ],
   "source": [
    "df.duplicated().sum()"
   ]
  },
  {
   "cell_type": "code",
   "execution_count": 75,
   "id": "0c0409ce",
   "metadata": {},
   "outputs": [
    {
     "data": {
      "text/html": [
       "<div>\n",
       "<style scoped>\n",
       "    .dataframe tbody tr th:only-of-type {\n",
       "        vertical-align: middle;\n",
       "    }\n",
       "\n",
       "    .dataframe tbody tr th {\n",
       "        vertical-align: top;\n",
       "    }\n",
       "\n",
       "    .dataframe thead th {\n",
       "        text-align: right;\n",
       "    }\n",
       "</style>\n",
       "<table border=\"1\" class=\"dataframe\">\n",
       "  <thead>\n",
       "    <tr style=\"text-align: right;\">\n",
       "      <th></th>\n",
       "      <th>Ratings</th>\n",
       "      <th>Comment</th>\n",
       "      <th>Reviews</th>\n",
       "    </tr>\n",
       "  </thead>\n",
       "  <tbody>\n",
       "    <tr>\n",
       "      <th>0</th>\n",
       "      <td>5</td>\n",
       "      <td>Super!</td>\n",
       "      <td>Great camera for pics and videos Battery life is good so far with some setting turn of which i never use and when i use i turn those on and i use it in power saving mode all the time so a full day with light gaming of 1hr or more using camera for 1hr or more listening music in my car on youtube and Bluetooth on for couple of hours it gives me full day of battery varing from 4/5 to 6/7 hours sot per dayPerformance is top notch plays every game and every task with easeVery premium phone look...READ MORE</td>\n",
       "    </tr>\n",
       "    <tr>\n",
       "      <th>1</th>\n",
       "      <td>5</td>\n",
       "      <td>Must buy!</td>\n",
       "      <td>Great device. Let me tell the Pros..1. Superb build quality 2. Great display. 3. Camera is great in good lighting conditions 4. Processing is great. 5. Sound is superb. 6. Call quality is great. 7. Red colour looks superb.8. Portrait mode photography is Superb.READ MORE</td>\n",
       "    </tr>\n",
       "    <tr>\n",
       "      <th>2</th>\n",
       "      <td>5</td>\n",
       "      <td>Great product</td>\n",
       "      <td>Who all loves older size i.e., 4.7 inch type should definitely go for this.  Nothing is better than XR, XS or 11. Best for price and usage.READ MORE</td>\n",
       "    </tr>\n",
       "    <tr>\n",
       "      <th>3</th>\n",
       "      <td>5</td>\n",
       "      <td>Simply awesome</td>\n",
       "      <td>This iPhone SE is the best phone ever you get. Beautifully designed gives a classy look in your palms. Moreover, performance wise it is a benchmark. You will not be disappointed in this budget. My purchase point was its size. If you are looking for the same you won’t be disappointed. I strongly recommend this phone to people who is more work oriented. Game loves should skip this phone as this is not a game phone. Best features with stunning looks &amp; performance. Battery life is very good...READ MORE</td>\n",
       "    </tr>\n",
       "    <tr>\n",
       "      <th>4</th>\n",
       "      <td>5</td>\n",
       "      <td>Classy product</td>\n",
       "      <td>This is my second iphone after iphone 4s. I’ve been a long time android user in between. I’ll tell you who this phone is for. Prospective buyers can then decide1. For photo and video enthusiasts. Very reliable camera. Fast and excellent picture quality. Videos are absolutely stable and professional quality. You would be amazed how many people shoot Youtube videos on an iPhone. The only downside is that the display doesn’t do justice to the photos and videos you have taken. Night photos are ...READ MORE</td>\n",
       "    </tr>\n",
       "    <tr>\n",
       "      <th>...</th>\n",
       "      <td>...</td>\n",
       "      <td>...</td>\n",
       "      <td>...</td>\n",
       "    </tr>\n",
       "    <tr>\n",
       "      <th>9708</th>\n",
       "      <td>5</td>\n",
       "      <td>Terrific purchase</td>\n",
       "      <td>Absolutely brilliantREAD MORE</td>\n",
       "    </tr>\n",
       "    <tr>\n",
       "      <th>9709</th>\n",
       "      <td>5</td>\n",
       "      <td>Classy product</td>\n",
       "      <td>Superb phone. This is my 4th iPhone, I feel SE 2020is the thinnest and pocket friendly product.READ MORE</td>\n",
       "    </tr>\n",
       "    <tr>\n",
       "      <th>9710</th>\n",
       "      <td>5</td>\n",
       "      <td>Awesome</td>\n",
       "      <td>very niceREAD MORE</td>\n",
       "    </tr>\n",
       "    <tr>\n",
       "      <th>9711</th>\n",
       "      <td>5</td>\n",
       "      <td>Super!</td>\n",
       "      <td>Loving it as of now. Good Product .READ MORE</td>\n",
       "    </tr>\n",
       "    <tr>\n",
       "      <th>9712</th>\n",
       "      <td>5</td>\n",
       "      <td>Terrific purchase</td>\n",
       "      <td>NiceElegant ElectricREAD MORE</td>\n",
       "    </tr>\n",
       "  </tbody>\n",
       "</table>\n",
       "<p>9064 rows × 3 columns</p>\n",
       "</div>"
      ],
      "text/plain": [
       "      Ratings            Comment  \\\n",
       "0           5             Super!   \n",
       "1           5          Must buy!   \n",
       "2           5      Great product   \n",
       "3           5     Simply awesome   \n",
       "4           5     Classy product   \n",
       "...       ...                ...   \n",
       "9708        5  Terrific purchase   \n",
       "9709        5     Classy product   \n",
       "9710        5            Awesome   \n",
       "9711        5             Super!   \n",
       "9712        5  Terrific purchase   \n",
       "\n",
       "                                                                                                                                                                                                                                                                                                                                                                                                                                                                                                                          Reviews  \n",
       "0      Great camera for pics and videos Battery life is good so far with some setting turn of which i never use and when i use i turn those on and i use it in power saving mode all the time so a full day with light gaming of 1hr or more using camera for 1hr or more listening music in my car on youtube and Bluetooth on for couple of hours it gives me full day of battery varing from 4/5 to 6/7 hours sot per dayPerformance is top notch plays every game and every task with easeVery premium phone look...READ MORE  \n",
       "1                                                                                                                                                                                                                                                  Great device. Let me tell the Pros..1. Superb build quality 2. Great display. 3. Camera is great in good lighting conditions 4. Processing is great. 5. Sound is superb. 6. Call quality is great. 7. Red colour looks superb.8. Portrait mode photography is Superb.READ MORE  \n",
       "2                                                                                                                                                                                                                                                                                                                                                                            Who all loves older size i.e., 4.7 inch type should definitely go for this.  Nothing is better than XR, XS or 11. Best for price and usage.READ MORE  \n",
       "3         This iPhone SE is the best phone ever you get. Beautifully designed gives a classy look in your palms. Moreover, performance wise it is a benchmark. You will not be disappointed in this budget. My purchase point was its size. If you are looking for the same you won’t be disappointed. I strongly recommend this phone to people who is more work oriented. Game loves should skip this phone as this is not a game phone. Best features with stunning looks & performance. Battery life is very good...READ MORE  \n",
       "4     This is my second iphone after iphone 4s. I’ve been a long time android user in between. I’ll tell you who this phone is for. Prospective buyers can then decide1. For photo and video enthusiasts. Very reliable camera. Fast and excellent picture quality. Videos are absolutely stable and professional quality. You would be amazed how many people shoot Youtube videos on an iPhone. The only downside is that the display doesn’t do justice to the photos and videos you have taken. Night photos are ...READ MORE  \n",
       "...                                                                                                                                                                                                                                                                                                                                                                                                                                                                                                                           ...  \n",
       "9708                                                                                                                                                                                                                                                                                                                                                                                                                                                                                                Absolutely brilliantREAD MORE  \n",
       "9709                                                                                                                                                                                                                                                                                                                                                                                                                     Superb phone. This is my 4th iPhone, I feel SE 2020is the thinnest and pocket friendly product.READ MORE  \n",
       "9710                                                                                                                                                                                                                                                                                                                                                                                                                                                                                                           very niceREAD MORE  \n",
       "9711                                                                                                                                                                                                                                                                                                                                                                                                                                                                                 Loving it as of now. Good Product .READ MORE  \n",
       "9712                                                                                                                                                                                                                                                                                                                                                                                                                                                                                                NiceElegant ElectricREAD MORE  \n",
       "\n",
       "[9064 rows x 3 columns]"
      ]
     },
     "execution_count": 75,
     "metadata": {},
     "output_type": "execute_result"
    }
   ],
   "source": [
    "df.drop_duplicates(inplace=True)\n",
    "df"
   ]
  },
  {
   "cell_type": "code",
   "execution_count": 76,
   "id": "9502f1dd",
   "metadata": {},
   "outputs": [
    {
     "data": {
      "text/plain": [
       "Ratings    0\n",
       "Comment    0\n",
       "Reviews    0\n",
       "dtype: int64"
      ]
     },
     "execution_count": 76,
     "metadata": {},
     "output_type": "execute_result"
    }
   ],
   "source": [
    "df.isna().sum()"
   ]
  },
  {
   "cell_type": "code",
   "execution_count": 77,
   "id": "868e87c9",
   "metadata": {
    "scrolled": true
   },
   "outputs": [
    {
     "name": "stderr",
     "output_type": "stream",
     "text": [
      "C:\\Users\\HP\\anaconda3\\lib\\site-packages\\seaborn\\_decorators.py:36: FutureWarning: Pass the following variable as a keyword arg: x. From version 0.12, the only valid positional argument will be `data`, and passing other arguments without an explicit keyword will result in an error or misinterpretation.\n",
      "  warnings.warn(\n"
     ]
    },
    {
     "data": {
      "text/plain": [
       "<AxesSubplot:xlabel='Ratings', ylabel='count'>"
      ]
     },
     "execution_count": 77,
     "metadata": {},
     "output_type": "execute_result"
    },
    {
     "data": {
      "image/png": "[encoded data removed]",
      "text/plain": [
       "<Figure size 432x288 with 1 Axes>"
      ]
     },
     "metadata": {
      "needs_background": "light"
     },
     "output_type": "display_data"
    }
   ],
   "source": [
    "sns.countplot(df[\"Ratings\"])"
   ]
  },
  {
   "cell_type": "markdown",
   "id": "826e7863",
   "metadata": {},
   "source": [
    " - convert lower\n",
    " - english stop words \n",
    " - panctuations"
   ]
  },
  {
   "cell_type": "code",
   "execution_count": 78,
   "id": "539396f2",
   "metadata": {},
   "outputs": [
    {
     "data": {
      "text/plain": [
       "0    Great camera for pics and videos Battery life is good so far with some setting turn of which i never use and when i use i turn those on and i use it in power saving mode all the time so a full day with light gaming of 1hr or more using camera for 1hr or more listening music in my car on youtube and Bluetooth on for couple of hours it gives me full day of battery varing from 4/5 to 6/7 hours sot per dayPerformance is top notch plays every game and every task with easeVery premium phone look...READ MORE\n",
       "Name: Reviews, dtype: object"
      ]
     },
     "execution_count": 78,
     "metadata": {},
     "output_type": "execute_result"
    }
   ],
   "source": [
    "df['Reviews'].head(1)"
   ]
  },
  {
   "cell_type": "code",
   "execution_count": 79,
   "id": "966ee2f3",
   "metadata": {},
   "outputs": [
    {
     "data": {
      "text/html": [
       "<div>\n",
       "<style scoped>\n",
       "    .dataframe tbody tr th:only-of-type {\n",
       "        vertical-align: middle;\n",
       "    }\n",
       "\n",
       "    .dataframe tbody tr th {\n",
       "        vertical-align: top;\n",
       "    }\n",
       "\n",
       "    .dataframe thead th {\n",
       "        text-align: right;\n",
       "    }\n",
       "</style>\n",
       "<table border=\"1\" class=\"dataframe\">\n",
       "  <thead>\n",
       "    <tr style=\"text-align: right;\">\n",
       "      <th></th>\n",
       "      <th>Ratings</th>\n",
       "      <th>Comment</th>\n",
       "      <th>Reviews</th>\n",
       "    </tr>\n",
       "  </thead>\n",
       "  <tbody>\n",
       "    <tr>\n",
       "      <th>0</th>\n",
       "      <td>5</td>\n",
       "      <td>Super!</td>\n",
       "      <td>great camera for pics and videos battery life is good so far with some setting turn of which i never use and when i use i turn those on and i use it in power saving mode all the time so a full day with light gaming of   or more using camera for   or more listening music in my car on youtube and bluetooth on for couple of hours it gives me full day of battery varing from     to     hours sot per dayperformance is top notch plays every game and every task with easevery premium phone look   read more</td>\n",
       "    </tr>\n",
       "    <tr>\n",
       "      <th>1</th>\n",
       "      <td>5</td>\n",
       "      <td>Must buy!</td>\n",
       "      <td>great device  let me tell the pros     superb build quality    great display     camera is great in good lighting conditions    processing is great     sound is superb     call quality is great     red colour looks superb    portrait mode photography is superb read more</td>\n",
       "    </tr>\n",
       "    <tr>\n",
       "      <th>2</th>\n",
       "      <td>5</td>\n",
       "      <td>Great product</td>\n",
       "      <td>who all loves older size i e       inch type should definitely go for this   nothing is better than xr  xs or    best for price and usage read more</td>\n",
       "    </tr>\n",
       "    <tr>\n",
       "      <th>3</th>\n",
       "      <td>5</td>\n",
       "      <td>Simply awesome</td>\n",
       "      <td>this iphone se is the best phone ever you get  beautifully designed gives a classy look in your palms  moreover  performance wise it is a benchmark  you will not be disappointed in this budget  my purchase point was its size  if you are looking for the same you won’t be disappointed  i strongly recommend this phone to people who is more work oriented  game loves should skip this phone as this is not a game phone  best features with stunning looks   performance  battery life is very good   read more</td>\n",
       "    </tr>\n",
       "    <tr>\n",
       "      <th>4</th>\n",
       "      <td>5</td>\n",
       "      <td>Classy product</td>\n",
       "      <td>this is my second iphone after iphone    i’ve been a long time android user in between  i’ll tell you who this phone is for  prospective buyers can then    for photo and video enthusiasts  very reliable camera  fast and excellent picture quality  videos are absolutely stable and professional quality  you would be amazed how many people shoot youtube videos on an iphone  the only downside is that the display doesn’t do justice to the photos and videos you have taken  night photos are    read more</td>\n",
       "    </tr>\n",
       "  </tbody>\n",
       "</table>\n",
       "</div>"
      ],
      "text/plain": [
       "   Ratings         Comment  \\\n",
       "0        5          Super!   \n",
       "1        5       Must buy!   \n",
       "2        5   Great product   \n",
       "3        5  Simply awesome   \n",
       "4        5  Classy product   \n",
       "\n",
       "                                                                                                                                                                                                                                                                                                                                                                                                                                                                                                                   Reviews  \n",
       "0   great camera for pics and videos battery life is good so far with some setting turn of which i never use and when i use i turn those on and i use it in power saving mode all the time so a full day with light gaming of   or more using camera for   or more listening music in my car on youtube and bluetooth on for couple of hours it gives me full day of battery varing from     to     hours sot per dayperformance is top notch plays every game and every task with easevery premium phone look   read more  \n",
       "1                                                                                                                                                                                                                                           great device  let me tell the pros     superb build quality    great display     camera is great in good lighting conditions    processing is great     sound is superb     call quality is great     red colour looks superb    portrait mode photography is superb read more  \n",
       "2                                                                                                                                                                                                                                                                                                                                                                      who all loves older size i e       inch type should definitely go for this   nothing is better than xr  xs or    best for price and usage read more  \n",
       "3  this iphone se is the best phone ever you get  beautifully designed gives a classy look in your palms  moreover  performance wise it is a benchmark  you will not be disappointed in this budget  my purchase point was its size  if you are looking for the same you won’t be disappointed  i strongly recommend this phone to people who is more work oriented  game loves should skip this phone as this is not a game phone  best features with stunning looks   performance  battery life is very good   read more  \n",
       "4     this is my second iphone after iphone    i’ve been a long time android user in between  i’ll tell you who this phone is for  prospective buyers can then    for photo and video enthusiasts  very reliable camera  fast and excellent picture quality  videos are absolutely stable and professional quality  you would be amazed how many people shoot youtube videos on an iphone  the only downside is that the display doesn’t do justice to the photos and videos you have taken  night photos are    read more  "
      ]
     },
     "execution_count": 79,
     "metadata": {},
     "output_type": "execute_result"
    }
   ],
   "source": [
    "import re\n",
    "import string\n",
    "\n",
    "alphanumeric = lambda x: re.sub('\\w*\\d\\w*', ' ', x)\n",
    "punc_lower = lambda x: re.sub('[%s]' % re.escape(string.punctuation), ' ', x.lower())\n",
    "\n",
    "df['Reviews'] = df.Reviews.map(alphanumeric).map(punc_lower)\n",
    "df.head()\n"
   ]
  },
  {
   "cell_type": "code",
   "execution_count": 80,
   "id": "f64932ed",
   "metadata": {},
   "outputs": [
    {
     "data": {
      "text/html": [
       "<div>\n",
       "<style scoped>\n",
       "    .dataframe tbody tr th:only-of-type {\n",
       "        vertical-align: middle;\n",
       "    }\n",
       "\n",
       "    .dataframe tbody tr th {\n",
       "        vertical-align: top;\n",
       "    }\n",
       "\n",
       "    .dataframe thead th {\n",
       "        text-align: right;\n",
       "    }\n",
       "</style>\n",
       "<table border=\"1\" class=\"dataframe\">\n",
       "  <thead>\n",
       "    <tr style=\"text-align: right;\">\n",
       "      <th></th>\n",
       "      <th>Ratings</th>\n",
       "      <th>Comment</th>\n",
       "      <th>Reviews</th>\n",
       "    </tr>\n",
       "  </thead>\n",
       "  <tbody>\n",
       "    <tr>\n",
       "      <th>1809</th>\n",
       "      <td>5</td>\n",
       "      <td>Wonderful</td>\n",
       "      <td>worth itread more</td>\n",
       "    </tr>\n",
       "    <tr>\n",
       "      <th>5172</th>\n",
       "      <td>4</td>\n",
       "      <td>Good quality product</td>\n",
       "      <td>awesome phone    have to compromise with large bazzles display and low battery with   charger inside the box    have to spend     more if you need fast charger read more</td>\n",
       "    </tr>\n",
       "    <tr>\n",
       "      <th>7125</th>\n",
       "      <td>4</td>\n",
       "      <td>Wonderful</td>\n",
       "      <td>the battery is draining quickly read more</td>\n",
       "    </tr>\n",
       "    <tr>\n",
       "      <th>4697</th>\n",
       "      <td>4</td>\n",
       "      <td>Very Good</td>\n",
       "      <td>it’s a gud product from apple apple is greater then all android phones   it’s awesomeread more</td>\n",
       "    </tr>\n",
       "    <tr>\n",
       "      <th>4709</th>\n",
       "      <td>5</td>\n",
       "      <td>Mind-blowing purchase</td>\n",
       "      <td>bought it for   during bbd sale  amazing phone  specially for someone like me who wanted to stay on iphone and prefers fingerprint over face scan  camera with apple chip covers all the bases  gaming is smooth  anyone whos used iphone knows app performance is way better than any flagship android battery is the only down side  runs about a day on usual usage  some heavy gaming and videos and you ll need to charge again by end of day read more</td>\n",
       "    </tr>\n",
       "    <tr>\n",
       "      <th>1185</th>\n",
       "      <td>5</td>\n",
       "      <td>Best in the market!</td>\n",
       "      <td>value for money onehand useread more</td>\n",
       "    </tr>\n",
       "    <tr>\n",
       "      <th>9113</th>\n",
       "      <td>5</td>\n",
       "      <td>Wonderful</td>\n",
       "      <td>phone is super good camera at the best quality  sometimes overheating and battery drain fast overall good performanceread more</td>\n",
       "    </tr>\n",
       "    <tr>\n",
       "      <th>309</th>\n",
       "      <td>5</td>\n",
       "      <td>Just wow!</td>\n",
       "      <td>the phone is very fast and smooth never gave me any issue the battery is on low side but camera to gaming all are on top of the line for casual people you don t need a dslr this phone can take some great photos and videosread more</td>\n",
       "    </tr>\n",
       "    <tr>\n",
       "      <th>137</th>\n",
       "      <td>5</td>\n",
       "      <td>Perfect product!</td>\n",
       "      <td>first of all very premium and beautiful phone so cool  handy  stylish  awesome thank u apple i have heard about the battery backup but being so low mah battery apple is giving you the quality which easily runs for a day with more than average use function is so smooth u r gonna luv this camera quality is a little bit low but over all can compromise sound quality is so good clean and strong size is small but it s up to you as company is telling it in description  i personally feel it pref   read more</td>\n",
       "    </tr>\n",
       "    <tr>\n",
       "      <th>5884</th>\n",
       "      <td>5</td>\n",
       "      <td>Wonderful</td>\n",
       "      <td>handy    moderate performance device    better than any android in this price tag    very nice deal from flipkart    a good companion for a moderate mobile user   read more</td>\n",
       "    </tr>\n",
       "    <tr>\n",
       "      <th>2624</th>\n",
       "      <td>5</td>\n",
       "      <td>Perfect product!</td>\n",
       "      <td>it’s my   iphone  compact beast as usual read more</td>\n",
       "    </tr>\n",
       "    <tr>\n",
       "      <th>7847</th>\n",
       "      <td>4</td>\n",
       "      <td>Really Nice</td>\n",
       "      <td>extremely satisfied with the product features and build quality  except it has got less battery capacityread more</td>\n",
       "    </tr>\n",
       "    <tr>\n",
       "      <th>1654</th>\n",
       "      <td>5</td>\n",
       "      <td>Perfect product!</td>\n",
       "      <td>this is my   se loved it  i expected better portrait for object too but it’s only applicable for person detectread more</td>\n",
       "    </tr>\n",
       "    <tr>\n",
       "      <th>483</th>\n",
       "      <td>5</td>\n",
       "      <td>Just wow!</td>\n",
       "      <td>nice product 😎😎osm look😍read more</td>\n",
       "    </tr>\n",
       "    <tr>\n",
       "      <th>6683</th>\n",
       "      <td>5</td>\n",
       "      <td>good in less budgets</td>\n",
       "      <td>as always good productsread more</td>\n",
       "    </tr>\n",
       "    <tr>\n",
       "      <th>6181</th>\n",
       "      <td>5</td>\n",
       "      <td>Just wow!</td>\n",
       "      <td>great product   battery works  better than samsung s    mah battery for sure read more</td>\n",
       "    </tr>\n",
       "    <tr>\n",
       "      <th>3951</th>\n",
       "      <td>4</td>\n",
       "      <td>Good choice</td>\n",
       "      <td>superb productread more</td>\n",
       "    </tr>\n",
       "    <tr>\n",
       "      <th>8163</th>\n",
       "      <td>5</td>\n",
       "      <td>Terrific</td>\n",
       "      <td>great    genuine product    seller is good  read more</td>\n",
       "    </tr>\n",
       "    <tr>\n",
       "      <th>9398</th>\n",
       "      <td>5</td>\n",
       "      <td>Brilliant</td>\n",
       "      <td>awesome smart phone on this price range   this is the performance beast phone  i am very very happy to have this read more</td>\n",
       "    </tr>\n",
       "    <tr>\n",
       "      <th>8999</th>\n",
       "      <td>5</td>\n",
       "      <td>Wonderful</td>\n",
       "      <td>awesome mobile    read more</td>\n",
       "    </tr>\n",
       "  </tbody>\n",
       "</table>\n",
       "</div>"
      ],
      "text/plain": [
       "      Ratings                Comment  \\\n",
       "1809        5              Wonderful   \n",
       "5172        4   Good quality product   \n",
       "7125        4              Wonderful   \n",
       "4697        4              Very Good   \n",
       "4709        5  Mind-blowing purchase   \n",
       "1185        5    Best in the market!   \n",
       "9113        5              Wonderful   \n",
       "309         5              Just wow!   \n",
       "137         5       Perfect product!   \n",
       "5884        5              Wonderful   \n",
       "2624        5       Perfect product!   \n",
       "7847        4            Really Nice   \n",
       "1654        5       Perfect product!   \n",
       "483         5              Just wow!   \n",
       "6683        5   good in less budgets   \n",
       "6181        5              Just wow!   \n",
       "3951        4            Good choice   \n",
       "8163        5               Terrific   \n",
       "9398        5              Brilliant   \n",
       "8999        5              Wonderful   \n",
       "\n",
       "                                                                                                                                                                                                                                                                                                                                                                                                                                                                                                                       Reviews  \n",
       "1809                                                                                                                                                                                                                                                                                                                                                                                                                                                                                                         worth itread more  \n",
       "5172                                                                                                                                                                                                                                                                                                                                                 awesome phone    have to compromise with large bazzles display and low battery with   charger inside the box    have to spend     more if you need fast charger read more  \n",
       "7125                                                                                                                                                                                                                                                                                                                                                                                                                                                                                 the battery is draining quickly read more  \n",
       "4697                                                                                                                                                                                                                                                                                                                                                                                                                            it’s a gud product from apple apple is greater then all android phones   it’s awesomeread more  \n",
       "4709                                                              bought it for   during bbd sale  amazing phone  specially for someone like me who wanted to stay on iphone and prefers fingerprint over face scan  camera with apple chip covers all the bases  gaming is smooth  anyone whos used iphone knows app performance is way better than any flagship android battery is the only down side  runs about a day on usual usage  some heavy gaming and videos and you ll need to charge again by end of day read more  \n",
       "1185                                                                                                                                                                                                                                                                                                                                                                                                                                                                                      value for money onehand useread more  \n",
       "9113                                                                                                                                                                                                                                                                                                                                                                                            phone is super good camera at the best quality  sometimes overheating and battery drain fast overall good performanceread more  \n",
       "309                                                                                                                                                                                                                                                                                     the phone is very fast and smooth never gave me any issue the battery is on low side but camera to gaming all are on top of the line for casual people you don t need a dslr this phone can take some great photos and videosread more  \n",
       "137   first of all very premium and beautiful phone so cool  handy  stylish  awesome thank u apple i have heard about the battery backup but being so low mah battery apple is giving you the quality which easily runs for a day with more than average use function is so smooth u r gonna luv this camera quality is a little bit low but over all can compromise sound quality is so good clean and strong size is small but it s up to you as company is telling it in description  i personally feel it pref   read more  \n",
       "5884                                                                                                                                                                                                                                                                                                                                              handy    moderate performance device    better than any android in this price tag    very nice deal from flipkart    a good companion for a moderate mobile user   read more  \n",
       "2624                                                                                                                                                                                                                                                                                                                                                                                                                                                                        it’s my   iphone  compact beast as usual read more  \n",
       "7847                                                                                                                                                                                                                                                                                                                                                                                                         extremely satisfied with the product features and build quality  except it has got less battery capacityread more  \n",
       "1654                                                                                                                                                                                                                                                                                                                                                                                                   this is my   se loved it  i expected better portrait for object too but it’s only applicable for person detectread more  \n",
       "483                                                                                                                                                                                                                                                                                                                                                                                                                                                                                          nice product 😎😎osm look😍read more  \n",
       "6683                                                                                                                                                                                                                                                                                                                                                                                                                                                                                          as always good productsread more  \n",
       "6181                                                                                                                                                                                                                                                                                                                                                                                                                                    great product   battery works  better than samsung s    mah battery for sure read more  \n",
       "3951                                                                                                                                                                                                                                                                                                                                                                                                                                                                                                   superb productread more  \n",
       "8163                                                                                                                                                                                                                                                                                                                                                                                                                                                                     great    genuine product    seller is good  read more  \n",
       "9398                                                                                                                                                                                                                                                                                                                                                                                                awesome smart phone on this price range   this is the performance beast phone  i am very very happy to have this read more  \n",
       "8999                                                                                                                                                                                                                                                                                                                                                                                                                                                                                               awesome mobile    read more  "
      ]
     },
     "execution_count": 80,
     "metadata": {},
     "output_type": "execute_result"
    }
   ],
   "source": [
    "df.sample(20)"
   ]
  },
  {
   "cell_type": "code",
   "execution_count": 81,
   "id": "f30e627c",
   "metadata": {},
   "outputs": [
    {
     "data": {
      "text/plain": [
       "'great camera for pics and videos battery life is good so far with some setting turn of which i never use and when i use i turn those on and i use it in power saving mode all the time so a full day with light gaming of   or more using camera for   or more listening music in my car on youtube and bluetooth on for couple of hours it gives me full day of battery varing from     to     hours sot per dayperformance is top notch plays every game and every task with easevery premium phone look   read more'"
      ]
     },
     "execution_count": 81,
     "metadata": {},
     "output_type": "execute_result"
    }
   ],
   "source": [
    "df.Reviews[0]"
   ]
  },
  {
   "cell_type": "code",
   "execution_count": 82,
   "id": "73138a91",
   "metadata": {},
   "outputs": [
    {
     "data": {
      "text/plain": [
       "0    great camera for pics and videos battery life is good so far with some setting turn of which i never use and when i use i turn those on and i use it in power saving mode all the time so a full day with light gaming of   or more using camera for   or more listening music in my car on youtube and bluetooth on for couple of hours it gives me full day of battery varing from     to     hours sot per dayperformance is top notch plays every game and every task with easevery premium phone look   read more\n",
       "Name: Reviews, dtype: object"
      ]
     },
     "execution_count": 82,
     "metadata": {},
     "output_type": "execute_result"
    }
   ],
   "source": [
    "# pd.set_option(\"max_columns\", None)\n",
    "pd.set_option('max_colwidth', None)\n",
    "df['Reviews'].head(1)"
   ]
  },
  {
   "cell_type": "code",
   "execution_count": 83,
   "id": "95b725dd",
   "metadata": {},
   "outputs": [],
   "source": [
    "import neattext.functions as nf"
   ]
  },
  {
   "cell_type": "code",
   "execution_count": 84,
   "id": "45ca4fa7",
   "metadata": {},
   "outputs": [
    {
     "data": {
      "text/plain": [
       "0                                      great camera pics videos battery life good far setting turn use use turn use power saving mode time day light gaming camera listening music car youtube bluetooth couple hours gives day battery varing hours sot dayperformance notch plays game task easevery premium phone look read\n",
       "1                                                                                                                great device let tell pros superb build quality great display camera great good lighting conditions processing great sound superb quality great red colour looks superb portrait mode photography superb read\n",
       "2                                                                                                                                                                                                                                                   loves older size e inch type definitely better xr xs best price usage read\n",
       "3                iphone se best phone beautifully designed gives classy look palms performance wise benchmark disappointed budget purchase point size looking wont disappointed strongly recommend phone people work oriented game loves skip phone game phone best features stunning looks performance battery life good read\n",
       "4       second iphone iphone ive long time android user ill tell phone prospective buyers photo video enthusiasts reliable camera fast excellent picture quality videos absolutely stable professional quality amazed people shoot youtube videos iphone downside display doesnt justice photos videos taken night photos read\n",
       "                                                                                                                                                                 ...                                                                                                                                                          \n",
       "9708                                                                                                                                                                                                                                                                                                  absolutely brilliantread\n",
       "9709                                                                                                                                                                                                                                                         superb phone iphone feel se thinnest pocket friendly product read\n",
       "9710                                                                                                                                                                                                                                                                                                                  niceread\n",
       "9711                                                                                                                                                                                                                                                                                                  loving good product read\n",
       "9712                                                                                                                                                                                                                                                                                                  niceelegant electricread\n",
       "Name: Reviews, Length: 9064, dtype: object"
      ]
     },
     "execution_count": 84,
     "metadata": {},
     "output_type": "execute_result"
    }
   ],
   "source": [
    "df['Reviews'] = df['Reviews'].apply(nf.remove_puncts)\n",
    "df['Reviews'] = df['Reviews'].apply(nf.remove_numbers)\n",
    "df['Reviews'] = df['Reviews'].apply(nf.remove_multiple_spaces)\n",
    "df['Reviews'] = df['Reviews'].apply(nf.remove_special_characters)\n",
    "df['Reviews'] = df['Reviews'].apply(nf.remove_stopwords)\n",
    "\n",
    "lower = lambda x : x.lower()\n",
    "df['Reviews'].map(lower)"
   ]
  },
  {
   "cell_type": "code",
   "execution_count": 85,
   "id": "350724d1",
   "metadata": {},
   "outputs": [],
   "source": [
    "df['Reviews'] = df['Reviews'].apply(nf.clean_text)"
   ]
  },
  {
   "cell_type": "code",
   "execution_count": 86,
   "id": "cf23c0d6",
   "metadata": {},
   "outputs": [
    {
     "data": {
      "text/plain": [
       "0    great camera pics videos battery life good far setting turn use use turn use power saving mode time day light gaming camera listening music car youtube bluetooth couple hours gives day battery varing hours sot dayperformance notch plays game task easevery premium phone look read\n",
       "Name: Reviews, dtype: object"
      ]
     },
     "execution_count": 86,
     "metadata": {},
     "output_type": "execute_result"
    }
   ],
   "source": [
    "df['Reviews'].head(1)"
   ]
  },
  {
   "cell_type": "code",
   "execution_count": 87,
   "id": "f712b5c0",
   "metadata": {},
   "outputs": [],
   "source": [
    "def add_reviews(x):\n",
    "        if x['Ratings'] >= 3 : \n",
    "            text = 'Positive'\n",
    "\n",
    "        elif x['Ratings'] < 3 : \n",
    "            text = 'Negative'\n",
    "        return text\n",
    "\n",
    "df['MyReviews'] = df.apply(add_reviews,axis=1)"
   ]
  },
  {
   "cell_type": "code",
   "execution_count": 88,
   "id": "af58e54c",
   "metadata": {},
   "outputs": [
    {
     "data": {
      "text/html": [
       "<div>\n",
       "<style scoped>\n",
       "    .dataframe tbody tr th:only-of-type {\n",
       "        vertical-align: middle;\n",
       "    }\n",
       "\n",
       "    .dataframe tbody tr th {\n",
       "        vertical-align: top;\n",
       "    }\n",
       "\n",
       "    .dataframe thead th {\n",
       "        text-align: right;\n",
       "    }\n",
       "</style>\n",
       "<table border=\"1\" class=\"dataframe\">\n",
       "  <thead>\n",
       "    <tr style=\"text-align: right;\">\n",
       "      <th></th>\n",
       "      <th>Ratings</th>\n",
       "      <th>Comment</th>\n",
       "      <th>Reviews</th>\n",
       "      <th>MyReviews</th>\n",
       "    </tr>\n",
       "  </thead>\n",
       "  <tbody>\n",
       "    <tr>\n",
       "      <th>0</th>\n",
       "      <td>5</td>\n",
       "      <td>Super!</td>\n",
       "      <td>great camera pics videos battery life good far setting turn use use turn use power saving mode time day light gaming camera listening music car youtube bluetooth couple hours gives day battery varing hours sot dayperformance notch plays game task easevery premium phone look read</td>\n",
       "      <td>Positive</td>\n",
       "    </tr>\n",
       "    <tr>\n",
       "      <th>1</th>\n",
       "      <td>5</td>\n",
       "      <td>Must buy!</td>\n",
       "      <td>great device let tell pros superb build quality great display camera great good lighting conditions processing great sound superb quality great red colour looks superb portrait mode photography superb read</td>\n",
       "      <td>Positive</td>\n",
       "    </tr>\n",
       "    <tr>\n",
       "      <th>2</th>\n",
       "      <td>5</td>\n",
       "      <td>Great product</td>\n",
       "      <td>loves older size e inch type definitely better xr xs best price usage read</td>\n",
       "      <td>Positive</td>\n",
       "    </tr>\n",
       "    <tr>\n",
       "      <th>3</th>\n",
       "      <td>5</td>\n",
       "      <td>Simply awesome</td>\n",
       "      <td>iphone se best phone beautifully designed gives classy look palms performance wise benchmark disappointed budget purchase point size looking wont disappointed strongly recommend phone people work oriented game loves skip phone game phone best features stunning looks performance battery life good read</td>\n",
       "      <td>Positive</td>\n",
       "    </tr>\n",
       "    <tr>\n",
       "      <th>4</th>\n",
       "      <td>5</td>\n",
       "      <td>Classy product</td>\n",
       "      <td>second iphone iphone ive long time android user ill tell phone prospective buyers photo video enthusiasts reliable camera fast excellent picture quality videos absolutely stable professional quality amazed people shoot youtube videos iphone downside display doesnt justice photos videos taken night photos read</td>\n",
       "      <td>Positive</td>\n",
       "    </tr>\n",
       "    <tr>\n",
       "      <th>5</th>\n",
       "      <td>4</td>\n",
       "      <td>Love at First Home Touch</td>\n",
       "      <td>totally worth price ios fan like compact phone want switch android iphone like clicking good photos camera unbeatable multitask normal phones stuck apps going hiatus lag like listen music speakers watch movie music feels like dolby atmos lot technical advantages dont want yo read</td>\n",
       "      <td>Positive</td>\n",
       "    </tr>\n",
       "    <tr>\n",
       "      <th>6</th>\n",
       "      <td>4</td>\n",
       "      <td>Wonderful</td>\n",
       "      <td>mobile handy packed good performances nice camera iphone good experience apple battery worst hardly getting hours screen time positive thing came know hours spending mobile poor battery mobile hours day read</td>\n",
       "      <td>Positive</td>\n",
       "    </tr>\n",
       "    <tr>\n",
       "      <th>7</th>\n",
       "      <td>4</td>\n",
       "      <td>Worth the money</td>\n",
       "      <td>compact handy good image stability gives amazing experience battery capacity little poor worth buying budget ratingread</td>\n",
       "      <td>Positive</td>\n",
       "    </tr>\n",
       "    <tr>\n",
       "      <th>8</th>\n",
       "      <td>4</td>\n",
       "      <td>Very Good</td>\n",
       "      <td>going use apple time amazed performance wise phone ultra camera pretty good attached images taken indoor display good best thing phone size easy use phone singe handedly excellent grip fits crisply pockets worst thing battery doesnt long better power bank avoid sudden switch read</td>\n",
       "      <td>Positive</td>\n",
       "    </tr>\n",
       "    <tr>\n",
       "      <th>9</th>\n",
       "      <td>3</td>\n",
       "      <td>Iphone SE Budgeted Phone of 2020?</td>\n",
       "      <td>purchased new iphone se based usage week rate product follows pros display quality good camera quality excellent takes sharp images blurriness touch sensor works precisely durability phone good quality body aluminum durable aluminum mobile industry read</td>\n",
       "      <td>Positive</td>\n",
       "    </tr>\n",
       "  </tbody>\n",
       "</table>\n",
       "</div>"
      ],
      "text/plain": [
       "   Ratings                            Comment  \\\n",
       "0        5                             Super!   \n",
       "1        5                          Must buy!   \n",
       "2        5                      Great product   \n",
       "3        5                     Simply awesome   \n",
       "4        5                     Classy product   \n",
       "5        4           Love at First Home Touch   \n",
       "6        4                          Wonderful   \n",
       "7        4                    Worth the money   \n",
       "8        4                          Very Good   \n",
       "9        3  Iphone SE Budgeted Phone of 2020?   \n",
       "\n",
       "                                                                                                                                                                                                                                                                                                                  Reviews  \\\n",
       "0                                 great camera pics videos battery life good far setting turn use use turn use power saving mode time day light gaming camera listening music car youtube bluetooth couple hours gives day battery varing hours sot dayperformance notch plays game task easevery premium phone look read   \n",
       "1                                                                                                           great device let tell pros superb build quality great display camera great good lighting conditions processing great sound superb quality great red colour looks superb portrait mode photography superb read   \n",
       "2                                                                                                                                                                                                                                              loves older size e inch type definitely better xr xs best price usage read   \n",
       "3           iphone se best phone beautifully designed gives classy look palms performance wise benchmark disappointed budget purchase point size looking wont disappointed strongly recommend phone people work oriented game loves skip phone game phone best features stunning looks performance battery life good read   \n",
       "4  second iphone iphone ive long time android user ill tell phone prospective buyers photo video enthusiasts reliable camera fast excellent picture quality videos absolutely stable professional quality amazed people shoot youtube videos iphone downside display doesnt justice photos videos taken night photos read   \n",
       "5                                totally worth price ios fan like compact phone want switch android iphone like clicking good photos camera unbeatable multitask normal phones stuck apps going hiatus lag like listen music speakers watch movie music feels like dolby atmos lot technical advantages dont want yo read   \n",
       "6                                                                                                         mobile handy packed good performances nice camera iphone good experience apple battery worst hardly getting hours screen time positive thing came know hours spending mobile poor battery mobile hours day read   \n",
       "7                                                                                                                                                                                                 compact handy good image stability gives amazing experience battery capacity little poor worth buying budget ratingread   \n",
       "8                                going use apple time amazed performance wise phone ultra camera pretty good attached images taken indoor display good best thing phone size easy use phone singe handedly excellent grip fits crisply pockets worst thing battery doesnt long better power bank avoid sudden switch read   \n",
       "9                                                           purchased new iphone se based usage week rate product follows pros display quality good camera quality excellent takes sharp images blurriness touch sensor works precisely durability phone good quality body aluminum durable aluminum mobile industry read   \n",
       "\n",
       "  MyReviews  \n",
       "0  Positive  \n",
       "1  Positive  \n",
       "2  Positive  \n",
       "3  Positive  \n",
       "4  Positive  \n",
       "5  Positive  \n",
       "6  Positive  \n",
       "7  Positive  \n",
       "8  Positive  \n",
       "9  Positive  "
      ]
     },
     "execution_count": 88,
     "metadata": {},
     "output_type": "execute_result"
    }
   ],
   "source": [
    "df.head(10)"
   ]
  },
  {
   "cell_type": "code",
   "execution_count": 63,
   "id": "90fa254b",
   "metadata": {},
   "outputs": [
    {
     "name": "stderr",
     "output_type": "stream",
     "text": [
      "C:\\Users\\HP\\anaconda3\\lib\\site-packages\\seaborn\\_decorators.py:36: FutureWarning: Pass the following variable as a keyword arg: x. From version 0.12, the only valid positional argument will be `data`, and passing other arguments without an explicit keyword will result in an error or misinterpretation.\n",
      "  warnings.warn(\n"
     ]
    },
    {
     "data": {
      "text/plain": [
       "<AxesSubplot:xlabel='MyReviews', ylabel='count'>"
      ]
     },
     "execution_count": 63,
     "metadata": {},
     "output_type": "execute_result"
    },
    {
     "data": {
      "image/png": "[encoded data removed]",
      "text/plain": [
       "<Figure size 432x288 with 1 Axes>"
      ]
     },
     "metadata": {
      "needs_background": "light"
     },
     "output_type": "display_data"
    }
   ],
   "source": [
    "sns.countplot(df[\"MyReviews\"])"
   ]
  },
  {
   "cell_type": "code",
   "execution_count": 97,
   "id": "9dd11ca1",
   "metadata": {},
   "outputs": [
    {
     "data": {
      "image/png": "[encoded data removed]",
      "text/plain": [
       "<Figure size 720x1080 with 2 Axes>"
      ]
     },
     "metadata": {
      "needs_background": "light"
     },
     "output_type": "display_data"
    }
   ],
   "source": [
    "fig, ax = plt.subplots(2,1,figsize=(10,15))\n",
    "\n",
    "ax[0].bar(df['Comment'].value_counts().index[:5], df['Comment'].value_counts().values[:5])\n",
    "ax[0].set_title('Barplot Top 5 Comments')\n",
    "\n",
    "ax[1].bar(df['Comment'].value_counts().index[-5:], df['Comment'].value_counts().values[-5:])\n",
    "ax[1].set_title('Barplot Least 5 Comments')\n",
    "plt.show()"
   ]
  },
  {
   "cell_type": "code",
   "execution_count": 102,
   "id": "65c60074",
   "metadata": {},
   "outputs": [
    {
     "name": "stderr",
     "output_type": "stream",
     "text": [
      "C:\\Users\\HP\\anaconda3\\lib\\site-packages\\seaborn\\_decorators.py:36: FutureWarning: Pass the following variables as keyword args: x, y. From version 0.12, the only valid positional argument will be `data`, and passing other arguments without an explicit keyword will result in an error or misinterpretation.\n",
      "  warnings.warn(\n"
     ]
    },
    {
     "data": {
      "image/png": "[encoded data removed]",
      "text/plain": [
       "<Figure size 720x576 with 1 Axes>"
      ]
     },
     "metadata": {},
     "output_type": "display_data"
    }
   ],
   "source": [
    "plt.figure(figsize=(10, 8))\n",
    "splot=sns.barplot(df['Ratings'].value_counts().index, df['Ratings'].value_counts().values)\n",
    "for p in splot.patches:\n",
    "    splot.annotate(format(p.get_height(), '.1f'), \n",
    "                   (p.get_x() + p.get_width() / 2., p.get_height()), \n",
    "                   ha = 'center', va = 'center', \n",
    "                   xytext = (0, 9), \n",
    "                   textcoords = 'offset points')\n",
    "plt.xlabel(\"Ratings\", size=14)\n",
    "plt.ylabel(\"Count\", size=14)\n",
    "plt.title('Rating Distribution', fontsize=14)\n",
    "plt.show()"
   ]
  },
  {
   "cell_type": "code",
   "execution_count": null,
   "id": "12adc2d7",
   "metadata": {},
   "outputs": [],
   "source": []
  }
 ],
 "metadata": {
  "kernelspec": {
   "display_name": "Python 3",
   "language": "python",
   "name": "python3"
  },
  "language_info": {
   "codemirror_mode": {
    "name": "ipython",
    "version": 3
   },
   "file_extension": ".py",
   "mimetype": "text/x-python",
   "name": "python",
   "nbconvert_exporter": "python",
   "pygments_lexer": "ipython3",
   "version": "3.8.8"
  }
 },
 "nbformat": 4,
 "nbformat_minor": 5
}
